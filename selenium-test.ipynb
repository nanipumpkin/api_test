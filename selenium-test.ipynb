{
 "cells": [
  {
   "cell_type": "code",
   "execution_count": 3,
   "metadata": {},
   "outputs": [
    {
     "ename": "ModuleNotFoundError",
     "evalue": "No module named 'selenium'",
     "output_type": "error",
     "traceback": [
      "\u001b[0;31m---------------------------------------------------------------------------\u001b[0m",
      "\u001b[0;31mModuleNotFoundError\u001b[0m                       Traceback (most recent call last)",
      "\u001b[1;32m/home/marianne/code/web_scraping_jobs/selenium-test.ipynb Cell 1\u001b[0m in \u001b[0;36m<cell line: 2>\u001b[0;34m()\u001b[0m\n\u001b[1;32m      <a href='vscode-notebook-cell:/home/marianne/code/web_scraping_jobs/selenium-test.ipynb#W0sZmlsZQ%3D%3D?line=0'>1</a>\u001b[0m \u001b[39m# Import libraries\u001b[39;00m\n\u001b[0;32m----> <a href='vscode-notebook-cell:/home/marianne/code/web_scraping_jobs/selenium-test.ipynb#W0sZmlsZQ%3D%3D?line=1'>2</a>\u001b[0m \u001b[39mfrom\u001b[39;00m \u001b[39mselenium\u001b[39;00m \u001b[39mimport\u001b[39;00m webdriver\n\u001b[1;32m      <a href='vscode-notebook-cell:/home/marianne/code/web_scraping_jobs/selenium-test.ipynb#W0sZmlsZQ%3D%3D?line=2'>3</a>\u001b[0m \u001b[39mimport\u001b[39;00m \u001b[39mtime\u001b[39;00m\n\u001b[1;32m      <a href='vscode-notebook-cell:/home/marianne/code/web_scraping_jobs/selenium-test.ipynb#W0sZmlsZQ%3D%3D?line=3'>4</a>\u001b[0m \u001b[39mimport\u001b[39;00m \u001b[39mpandas\u001b[39;00m \u001b[39mas\u001b[39;00m \u001b[39mpd\u001b[39;00m\n",
      "\u001b[0;31mModuleNotFoundError\u001b[0m: No module named 'selenium'"
     ]
    }
   ],
   "source": [
    "# Import libraries\n",
    "from selenium import webdriver\n",
    "import time\n",
    "import pandas as pd"
   ]
  },
  {
   "cell_type": "code",
   "execution_count": 5,
   "metadata": {},
   "outputs": [],
   "source": [
    "# Setup project target, example: Data Science Junior Jobs in Florianopolis\n",
    "url = 'https://www.linkedin.com/jobs/search?keywords=junior%20data%20analyst&location=Florianopolis&refresh=true'"
   ]
  },
  {
   "cell_type": "code",
   "execution_count": 6,
   "metadata": {},
   "outputs": [
    {
     "ename": "NameError",
     "evalue": "name 'webdriver' is not defined",
     "output_type": "error",
     "traceback": [
      "\u001b[0;31m---------------------------------------------------------------------------\u001b[0m",
      "\u001b[0;31mNameError\u001b[0m                                 Traceback (most recent call last)",
      "\u001b[1;32m/home/marianne/code/web_scraping_jobs/selenium-test.ipynb Cell 3\u001b[0m in \u001b[0;36m<cell line: 2>\u001b[0;34m()\u001b[0m\n\u001b[1;32m      <a href='vscode-notebook-cell:/home/marianne/code/web_scraping_jobs/selenium-test.ipynb#W2sZmlsZQ%3D%3D?line=0'>1</a>\u001b[0m \u001b[39m# Setup chromedriver \u001b[39;00m\n\u001b[0;32m----> <a href='vscode-notebook-cell:/home/marianne/code/web_scraping_jobs/selenium-test.ipynb#W2sZmlsZQ%3D%3D?line=1'>2</a>\u001b[0m wd \u001b[39m=\u001b[39m webdriver\u001b[39m.\u001b[39mChrome()\n\u001b[1;32m      <a href='vscode-notebook-cell:/home/marianne/code/web_scraping_jobs/selenium-test.ipynb#W2sZmlsZQ%3D%3D?line=2'>3</a>\u001b[0m wd\u001b[39m.\u001b[39mget(url)\n",
      "\u001b[0;31mNameError\u001b[0m: name 'webdriver' is not defined"
     ]
    }
   ],
   "source": [
    "# Setup chromedriver \n",
    "wd = webdriver.Chrome()\n",
    "wd.get(url)"
   ]
  },
  {
   "cell_type": "code",
   "execution_count": 4,
   "metadata": {},
   "outputs": [],
   "source": [
    "from selenium.webdriver.common.by import By"
   ]
  },
  {
   "cell_type": "code",
   "execution_count": 5,
   "metadata": {},
   "outputs": [
    {
     "name": "stdout",
     "output_type": "stream",
     "text": [
      "88\n"
     ]
    }
   ],
   "source": [
    "# Get the number of jobs available\n",
    "no_of_jobs = int(wd.find_element(By.CSS_SELECTOR, value='h1>span').get_attribute('innerText'))\n",
    "print(no_of_jobs)"
   ]
  },
  {
   "cell_type": "code",
   "execution_count": 6,
   "metadata": {},
   "outputs": [],
   "source": [
    "# Browse all the jobs\n",
    "i = 2\n",
    "while i <= int(no_of_jobs/25)+1: \n",
    "    wd.execute_script('window.scrollTo(0, document.body.scrollHeight);')\n",
    "    i = i + 1\n",
    "    try:\n",
    "        wd.find_element(By.XPATH, value='/html/body/main/div/section/button').click()\n",
    "        time.sleep(5)\n",
    "    except:\n",
    "        pass\n",
    "        time.sleep(5)"
   ]
  },
  {
   "cell_type": "code",
   "execution_count": 7,
   "metadata": {},
   "outputs": [],
   "source": [
    "# Find all the jobs\n",
    "job_lists = wd.find_element(By.CLASS_NAME, value='jobs-search__results-list')\n",
    "jobs = job_lists.find_elements(By.TAG_NAME, value='li') # return a list"
   ]
  },
  {
   "cell_type": "code",
   "execution_count": 8,
   "metadata": {},
   "outputs": [
    {
     "data": {
      "text/plain": [
       "75"
      ]
     },
     "execution_count": 8,
     "metadata": {},
     "output_type": "execute_result"
    }
   ],
   "source": [
    "# Check the number of jobs on the list\n",
    "len(jobs)"
   ]
  },
  {
   "cell_type": "code",
   "execution_count": 9,
   "metadata": {},
   "outputs": [],
   "source": [
    "# Load job details into dataframe\n",
    "job_id= []\n",
    "job_title = []\n",
    "company_name = []\n",
    "location = []\n",
    "date = []\n",
    "job_link = []\n",
    "\n",
    "for job in jobs:\n",
    " job_id0 = job.get_attribute('data-id')\n",
    " job_id.append(job_id0)\n",
    " \n",
    " job_title0 = job.find_element(By.CSS_SELECTOR, value='h3').text\n",
    " job_title.append(job_title0)\n",
    " \n",
    " company_name0 = job.find_element(By.CSS_SELECTOR, value='h4').text\n",
    " company_name.append(company_name0)\n",
    " \n",
    " location0 = job.find_element(By.CLASS_NAME, value='job-search-card__location').text\n",
    " location.append(location0)\n",
    " \n",
    " date0 = job.find_element(By.CSS_SELECTOR, value='div>div>time').get_attribute('datetime')\n",
    " date.append(date0)\n",
    " \n",
    " job_link0 = job.find_element(By.CSS_SELECTOR, value='a').get_attribute('href')\n",
    " job_link.append(job_link0)\n"
   ]
  },
  {
   "cell_type": "code",
   "execution_count": 10,
   "metadata": {},
   "outputs": [
    {
     "ename": "NoSuchElementException",
     "evalue": "Message: no such element: Unable to locate element: {\"method\":\"xpath\",\"selector\":\"/html/body/main/div/section[2]/ul/li[1]/img\"}\n  (Session info: chrome=105.0.5195.102)\nStacktrace:\n#0 0x55a5a992fa93 <unknown>\n#1 0x55a5a97503da <unknown>\n#2 0x55a5a97872dc <unknown>\n#3 0x55a5a97874a1 <unknown>\n#4 0x55a5a977bb87 <unknown>\n#5 0x55a5a97a534d <unknown>\n#6 0x55a5a977bac5 <unknown>\n#7 0x55a5a97a542e <unknown>\n#8 0x55a5a97b8885 <unknown>\n#9 0x55a5a97a5213 <unknown>\n#10 0x55a5a977a425 <unknown>\n#11 0x55a5a977b565 <unknown>\n#12 0x55a5a9974146 <unknown>\n#13 0x55a5a99769d3 <unknown>\n#14 0x55a5a99770d6 <unknown>\n#15 0x55a5a995e0de <unknown>\n#16 0x55a5a997771c <unknown>\n#17 0x55a5a9952402 <unknown>\n#18 0x55a5a9991358 <unknown>\n#19 0x55a5a99914ec <unknown>\n#20 0x55a5a99aaab2 <unknown>\n#21 0x7fa4b640d609 <unknown>\n",
     "output_type": "error",
     "traceback": [
      "\u001b[0;31m---------------------------------------------------------------------------\u001b[0m",
      "\u001b[0;31mNoSuchElementException\u001b[0m                    Traceback (most recent call last)",
      "Cell \u001b[0;32mIn [10], line 15\u001b[0m\n\u001b[1;32m     12\u001b[0m \u001b[38;5;66;03m# clicking job to view job details\u001b[39;00m\n\u001b[1;32m     14\u001b[0m  job_click_path \u001b[38;5;241m=\u001b[39m \u001b[38;5;124mf\u001b[39m\u001b[38;5;124m'\u001b[39m\u001b[38;5;124m/html/body/main/div/section[2]/ul/li[\u001b[39m\u001b[38;5;132;01m{\u001b[39;00mitem\u001b[38;5;241m+\u001b[39m\u001b[38;5;241m1\u001b[39m\u001b[38;5;132;01m}\u001b[39;00m\u001b[38;5;124m]/img\u001b[39m\u001b[38;5;124m'\u001b[39m\n\u001b[0;32m---> 15\u001b[0m  job_click \u001b[38;5;241m=\u001b[39m \u001b[43mjob\u001b[49m\u001b[38;5;241;43m.\u001b[39;49m\u001b[43mfind_element\u001b[49m\u001b[43m(\u001b[49m\u001b[43mBy\u001b[49m\u001b[38;5;241;43m.\u001b[39;49m\u001b[43mXPATH\u001b[49m\u001b[43m,\u001b[49m\u001b[43m \u001b[49m\u001b[43mvalue\u001b[49m\u001b[38;5;241;43m=\u001b[39;49m\u001b[43mjob_click_path\u001b[49m\u001b[43m)\u001b[49m\u001b[38;5;241m.\u001b[39mclick()\n\u001b[1;32m     16\u001b[0m  time\u001b[38;5;241m.\u001b[39msleep(\u001b[38;5;241m5\u001b[39m)\n\u001b[1;32m     18\u001b[0m  jd_path \u001b[38;5;241m=\u001b[39m \u001b[38;5;124m'\u001b[39m\u001b[38;5;124m/html/body/main/section/div[2]/section[2]/div\u001b[39m\u001b[38;5;124m'\u001b[39m\n",
      "File \u001b[0;32m~/code/api_test/.venv/lib/python3.10/site-packages/selenium/webdriver/remote/webelement.py:419\u001b[0m, in \u001b[0;36mWebElement.find_element\u001b[0;34m(self, by, value)\u001b[0m\n\u001b[1;32m    416\u001b[0m     by \u001b[39m=\u001b[39m By\u001b[39m.\u001b[39mCSS_SELECTOR\n\u001b[1;32m    417\u001b[0m     value \u001b[39m=\u001b[39m \u001b[39m'\u001b[39m\u001b[39m[name=\u001b[39m\u001b[39m\"\u001b[39m\u001b[39m%s\u001b[39;00m\u001b[39m\"\u001b[39m\u001b[39m]\u001b[39m\u001b[39m'\u001b[39m \u001b[39m%\u001b[39m value\n\u001b[0;32m--> 419\u001b[0m \u001b[39mreturn\u001b[39;00m \u001b[39mself\u001b[39;49m\u001b[39m.\u001b[39;49m_execute(Command\u001b[39m.\u001b[39;49mFIND_CHILD_ELEMENT,\n\u001b[1;32m    420\u001b[0m                      {\u001b[39m\"\u001b[39;49m\u001b[39musing\u001b[39;49m\u001b[39m\"\u001b[39;49m: by, \u001b[39m\"\u001b[39;49m\u001b[39mvalue\u001b[39;49m\u001b[39m\"\u001b[39;49m: value})[\u001b[39m'\u001b[39m\u001b[39mvalue\u001b[39m\u001b[39m'\u001b[39m]\n",
      "File \u001b[0;32m~/code/api_test/.venv/lib/python3.10/site-packages/selenium/webdriver/remote/webelement.py:396\u001b[0m, in \u001b[0;36mWebElement._execute\u001b[0;34m(self, command, params)\u001b[0m\n\u001b[1;32m    394\u001b[0m     params \u001b[39m=\u001b[39m {}\n\u001b[1;32m    395\u001b[0m params[\u001b[39m'\u001b[39m\u001b[39mid\u001b[39m\u001b[39m'\u001b[39m] \u001b[39m=\u001b[39m \u001b[39mself\u001b[39m\u001b[39m.\u001b[39m_id\n\u001b[0;32m--> 396\u001b[0m \u001b[39mreturn\u001b[39;00m \u001b[39mself\u001b[39;49m\u001b[39m.\u001b[39;49m_parent\u001b[39m.\u001b[39;49mexecute(command, params)\n",
      "File \u001b[0;32m~/code/api_test/.venv/lib/python3.10/site-packages/selenium/webdriver/remote/webdriver.py:428\u001b[0m, in \u001b[0;36mWebDriver.execute\u001b[0;34m(self, driver_command, params)\u001b[0m\n\u001b[1;32m    426\u001b[0m response \u001b[39m=\u001b[39m \u001b[39mself\u001b[39m\u001b[39m.\u001b[39mcommand_executor\u001b[39m.\u001b[39mexecute(driver_command, params)\n\u001b[1;32m    427\u001b[0m \u001b[39mif\u001b[39;00m response:\n\u001b[0;32m--> 428\u001b[0m     \u001b[39mself\u001b[39;49m\u001b[39m.\u001b[39;49merror_handler\u001b[39m.\u001b[39;49mcheck_response(response)\n\u001b[1;32m    429\u001b[0m     response[\u001b[39m'\u001b[39m\u001b[39mvalue\u001b[39m\u001b[39m'\u001b[39m] \u001b[39m=\u001b[39m \u001b[39mself\u001b[39m\u001b[39m.\u001b[39m_unwrap_value(\n\u001b[1;32m    430\u001b[0m         response\u001b[39m.\u001b[39mget(\u001b[39m'\u001b[39m\u001b[39mvalue\u001b[39m\u001b[39m'\u001b[39m, \u001b[39mNone\u001b[39;00m))\n\u001b[1;32m    431\u001b[0m     \u001b[39mreturn\u001b[39;00m response\n",
      "File \u001b[0;32m~/code/api_test/.venv/lib/python3.10/site-packages/selenium/webdriver/remote/errorhandler.py:243\u001b[0m, in \u001b[0;36mErrorHandler.check_response\u001b[0;34m(self, response)\u001b[0m\n\u001b[1;32m    241\u001b[0m         alert_text \u001b[39m=\u001b[39m value[\u001b[39m'\u001b[39m\u001b[39malert\u001b[39m\u001b[39m'\u001b[39m]\u001b[39m.\u001b[39mget(\u001b[39m'\u001b[39m\u001b[39mtext\u001b[39m\u001b[39m'\u001b[39m)\n\u001b[1;32m    242\u001b[0m     \u001b[39mraise\u001b[39;00m exception_class(message, screen, stacktrace, alert_text)  \u001b[39m# type: ignore[call-arg]  # mypy is not smart enough here\u001b[39;00m\n\u001b[0;32m--> 243\u001b[0m \u001b[39mraise\u001b[39;00m exception_class(message, screen, stacktrace)\n",
      "\u001b[0;31mNoSuchElementException\u001b[0m: Message: no such element: Unable to locate element: {\"method\":\"xpath\",\"selector\":\"/html/body/main/div/section[2]/ul/li[1]/img\"}\n  (Session info: chrome=105.0.5195.102)\nStacktrace:\n#0 0x55a5a992fa93 <unknown>\n#1 0x55a5a97503da <unknown>\n#2 0x55a5a97872dc <unknown>\n#3 0x55a5a97874a1 <unknown>\n#4 0x55a5a977bb87 <unknown>\n#5 0x55a5a97a534d <unknown>\n#6 0x55a5a977bac5 <unknown>\n#7 0x55a5a97a542e <unknown>\n#8 0x55a5a97b8885 <unknown>\n#9 0x55a5a97a5213 <unknown>\n#10 0x55a5a977a425 <unknown>\n#11 0x55a5a977b565 <unknown>\n#12 0x55a5a9974146 <unknown>\n#13 0x55a5a99769d3 <unknown>\n#14 0x55a5a99770d6 <unknown>\n#15 0x55a5a995e0de <unknown>\n#16 0x55a5a997771c <unknown>\n#17 0x55a5a9952402 <unknown>\n#18 0x55a5a9991358 <unknown>\n#19 0x55a5a99914ec <unknown>\n#20 0x55a5a99aaab2 <unknown>\n#21 0x7fa4b640d609 <unknown>\n"
     ]
    }
   ],
   "source": [
    "# Load further details\n",
    "jd = []\n",
    "seniority = []\n",
    "emp_type = []\n",
    "job_func = []\n",
    "industries = []\n",
    "\n",
    "for item in range(len(jobs)):\n",
    " job_func0=[]\n",
    " industries0=[]\n",
    "\n",
    "# clicking job to view job details\n",
    "\n",
    " job_click_path = f'/html/body/main/div/section[2]/ul/li[{item+1}]/img'\n",
    " job_click = job.find_element(By.XPATH, value=job_click_path).click()\n",
    " time.sleep(5)\n",
    " \n",
    " jd_path = '/html/body/main/section/div[2]/section[2]/div'\n",
    " jd0 = job.find_element(By.XPATH, value='jd_path').text\n",
    " jd.append(jd0)\n",
    " \n",
    " seniority_path = '/html/body/main/section/div[2]/section[2]/ul/li[1]/span'\n",
    " seniority0 = job.find_element(By.XPATH, value='seniority_path').text\n",
    " seniority.append(seniority0)\n",
    " \n",
    " emp_type_path = '/html/body/main/section/div[2]/section[2]/ul/li[2]/span'\n",
    " emp_type0 = job.find_element(By.XPATH, value='emp_type_path').text\n",
    " emp_type.append(emp_type0)\n",
    " \n",
    " job_func_path = '/html/body/main/section/div[2]/section[2]/ul/li[3]/span'\n",
    " job_func_elements = job.find_elements(By.XPATH, value='job_func_path')\n",
    " \n",
    "for element in job_func_elements:\n",
    " job_func0.append(element.get_attribute('innerText'))\n",
    " job_func_final = ', '.join(job_func0)\n",
    " job_func.append(job_func_final)\n",
    "\n",
    " industries_path = '/html/body/main/section/div[2]/section[2]/ul/li[4]/span'\n",
    " industries_elements = job.find_elements(By.XPATH, value='industries_path')\n",
    "\n",
    "for element in industries_elements:\n",
    " industries0.append(element.get_attribute('innerText'))\n",
    " industries_final = ', '.join(industries0)\n",
    " industries.append(industries_final)"
   ]
  },
  {
   "cell_type": "code",
   "execution_count": 17,
   "metadata": {},
   "outputs": [],
   "source": [
    "# Load data into DataFrame for further analysis\n",
    "job_data = pd.DataFrame({'ID': job_id,\n",
    "                         'Date': date,\n",
    "                         'Company': company_name,\n",
    "                         'Title': job_title,\n",
    "                         'Location': location,\n",
    "                         #'Description': jd,\n",
    "                         #'Level': seniority,\n",
    "                         #'Type': emp_type,\n",
    "                         #'Function': job_func,\n",
    "                         #'Industry': industries,\n",
    "                         'Link': job_link\n",
    "                         })\n",
    "\n",
    "# cleaning description column\n",
    "#job_data['Description'] = job_data['Description'].str.replace('\\n', ' ')\n",
    "job_data.to_csv('linkedin_jobs_data.csv', index=False)\n"
   ]
  }
 ],
 "metadata": {
  "kernelspec": {
   "display_name": "Python 3.10.4 64-bit",
   "language": "python",
   "name": "python3"
  },
  "language_info": {
   "codemirror_mode": {
    "name": "ipython",
    "version": 3
   },
   "file_extension": ".py",
   "mimetype": "text/x-python",
   "name": "python",
   "nbconvert_exporter": "python",
   "pygments_lexer": "ipython3",
   "version": "3.10.4"
  },
  "orig_nbformat": 4,
  "vscode": {
   "interpreter": {
    "hash": "916dbcbb3f70747c44a77c7bcd40155683ae19c65e1c03b4aa3499c5328201f1"
   }
  }
 },
 "nbformat": 4,
 "nbformat_minor": 2
}
