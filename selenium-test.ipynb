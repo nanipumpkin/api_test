{
 "cells": [
  {
   "cell_type": "code",
   "execution_count": null,
   "metadata": {},
   "outputs": [],
   "source": [
    "# Import libraries\n",
    "from selenium import webdriver\n",
    "import time\n",
    "import pandas as pd"
   ]
  },
  {
   "cell_type": "code",
   "execution_count": null,
   "metadata": {},
   "outputs": [],
   "source": [
    "# Setup project target, example: Data Science Junior Jobs in Florianopolis\n",
    "url = 'https://www.linkedin.com/jobs/search?keywords=junior%20data%20analyst&location=Florianopolis&refresh=true'"
   ]
  },
  {
   "cell_type": "code",
   "execution_count": null,
   "metadata": {},
   "outputs": [],
   "source": [
    "# Setup chromedriver \n",
    "wd = webdriver.Chrome()\n",
    "wd.get(url)"
   ]
  },
  {
   "cell_type": "code",
   "execution_count": null,
   "metadata": {},
   "outputs": [],
   "source": [
    "from selenium.webdriver.common.by import By"
   ]
  },
  {
   "cell_type": "code",
   "execution_count": null,
   "metadata": {},
   "outputs": [],
   "source": [
    "# Get the number of jobs available\n",
    "no_of_jobs = int(wd.find_element(By.CSS_SELECTOR, value='h1>span').get_attribute('innerText'))\n",
    "print(no_of_jobs)"
   ]
  },
  {
   "cell_type": "code",
   "execution_count": null,
   "metadata": {},
   "outputs": [],
   "source": [
    "# Browse all the jobs\n",
    "i = 2\n",
    "while i <= int(no_of_jobs/25)+1: \n",
    "    wd.execute_script('window.scrollTo(0, document.body.scrollHeight);')\n",
    "    i = i + 1\n",
    "    try:\n",
    "        wd.find_element(By.XPATH, value='/html/body/main/div/section/button').click()\n",
    "        time.sleep(5)\n",
    "    except:\n",
    "        pass\n",
    "        time.sleep(5)"
   ]
  },
  {
   "cell_type": "code",
   "execution_count": null,
   "metadata": {},
   "outputs": [],
   "source": [
    "# Find all the jobs\n",
    "job_lists = wd.find_element(By.CLASS_NAME, value='jobs-search__results-list')\n",
    "jobs = job_lists.find_elements(By.TAG_NAME, value='li') # return a list"
   ]
  },
  {
   "cell_type": "code",
   "execution_count": null,
   "metadata": {},
   "outputs": [],
   "source": [
    "# Check the number of jobs on the list\n",
    "len(jobs)"
   ]
  },
  {
   "cell_type": "code",
   "execution_count": null,
   "metadata": {},
   "outputs": [],
   "source": [
    "# Load job details into dataframe\n",
    "job_id= []\n",
    "job_title = []\n",
    "company_name = []\n",
    "location = []\n",
    "date = []\n",
    "job_link = []\n",
    "\n",
    "for job in jobs:\n",
    " job_id0 = job.get_attribute('data-id')\n",
    " job_id.append(job_id0)\n",
    " \n",
    " job_title0 = job.find_element(By.CSS_SELECTOR, value='h3').text\n",
    " job_title.append(job_title0)\n",
    " \n",
    " company_name0 = job.find_element(By.CSS_SELECTOR, value='h4').text\n",
    " company_name.append(company_name0)\n",
    " \n",
    " location0 = job.find_element(By.CLASS_NAME, value='job-search-card__location').text\n",
    " location.append(location0)\n",
    " \n",
    " date0 = job.find_element(By.CSS_SELECTOR, value='div>div>time').get_attribute('datetime')\n",
    " date.append(date0)\n",
    " \n",
    " job_link0 = job.find_element(By.CSS_SELECTOR, value='a').get_attribute('href')\n",
    " job_link.append(job_link0)\n"
   ]
  },
  {
   "cell_type": "code",
   "execution_count": null,
   "metadata": {},
   "outputs": [],
   "source": [
    "# Load further details\n",
    "jd = []\n",
    "seniority = []\n",
    "emp_type = []\n",
    "job_func = []\n",
    "industries = []\n",
    "\n",
    "for item in range(len(jobs)):\n",
    " job_func0=[]\n",
    " industries0=[]\n",
    "\n",
    "# clicking job to view job details\n",
    "\n",
    " job_click_path = f'/html/body/main/div/section[2]/ul/li[{item+1}]/img'\n",
    " job_click = job.find_element(By.XPATH, value=job_click_path).click()\n",
    " time.sleep(5)\n",
    " \n",
    " jd_path = '/html/body/main/section/div[2]/section[2]/div'\n",
    " jd0 = job.find_element(By.XPATH, value='jd_path').text\n",
    " jd.append(jd0)\n",
    " \n",
    " seniority_path = '/html/body/main/section/div[2]/section[2]/ul/li[1]/span'\n",
    " seniority0 = job.find_element(By.XPATH, value='seniority_path').text\n",
    " seniority.append(seniority0)\n",
    " \n",
    " emp_type_path = '/html/body/main/section/div[2]/section[2]/ul/li[2]/span'\n",
    " emp_type0 = job.find_element(By.XPATH, value='emp_type_path').text\n",
    " emp_type.append(emp_type0)\n",
    " \n",
    " job_func_path = '/html/body/main/section/div[2]/section[2]/ul/li[3]/span'\n",
    " job_func_elements = job.find_elements(By.XPATH, value='job_func_path')\n",
    " \n",
    "for element in job_func_elements:\n",
    " job_func0.append(element.get_attribute('innerText'))\n",
    " job_func_final = ', '.join(job_func0)\n",
    " job_func.append(job_func_final)\n",
    "\n",
    " industries_path = '/html/body/main/section/div[2]/section[2]/ul/li[4]/span'\n",
    " industries_elements = job.find_elements(By.XPATH, value='industries_path')\n",
    "\n",
    "for element in industries_elements:\n",
    " industries0.append(element.get_attribute('innerText'))\n",
    " industries_final = ', '.join(industries0)\n",
    " industries.append(industries_final)"
   ]
  },
  {
   "cell_type": "code",
   "execution_count": null,
   "metadata": {},
   "outputs": [],
   "source": [
    "# Load data into DataFrame for further analysis\n",
    "job_data = pd.DataFrame({'ID': job_id,\n",
    "                         'Date': date,\n",
    "                         'Company': company_name,\n",
    "                         'Title': job_title,\n",
    "                         'Location': location,\n",
    "                         #'Description': jd,\n",
    "                         #'Level': seniority,\n",
    "                         #'Type': emp_type,\n",
    "                         #'Function': job_func,\n",
    "                         #'Industry': industries,\n",
    "                         'Link': job_link\n",
    "                         })\n",
    "\n",
    "# cleaning description column\n",
    "#job_data['Description'] = job_data['Description'].str.replace('\\n', ' ')\n",
    "job_data.to_csv('linkedin_jobs_data.csv', index=False)\n"
   ]
  }
 ],
 "metadata": {
  "kernelspec": {
   "display_name": "Python 3.10.4 64-bit",
   "language": "python",
   "name": "python3"
  },
  "language_info": {
   "codemirror_mode": {
    "name": "ipython",
    "version": 3
   },
   "file_extension": ".py",
   "mimetype": "text/x-python",
   "name": "python",
   "nbconvert_exporter": "python",
   "pygments_lexer": "ipython3",
   "version": "3.8.10"
  },
  "orig_nbformat": 4,
  "vscode": {
   "interpreter": {
    "hash": "916dbcbb3f70747c44a77c7bcd40155683ae19c65e1c03b4aa3499c5328201f1"
   }
  }
 },
 "nbformat": 4,
 "nbformat_minor": 2
}
