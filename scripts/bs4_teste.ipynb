{
 "cells": [
  {
   "cell_type": "code",
   "execution_count": 2,
   "metadata": {},
   "outputs": [
    {
     "data": {
      "text/plain": [
       "<Response [200]>"
      ]
     },
     "execution_count": 2,
     "metadata": {},
     "output_type": "execute_result"
    }
   ],
   "source": [
    "from bs4 import BeautifulSoup\n",
    "import requests\n",
    "import pandas as pd\n",
    "\n",
    "url = 'https://www.linkedin.com/jobs/search?keywords=junior%20data%20analyst&location=Florianopolis&refresh=true'\n",
    "\n",
    "headers = {'User-Agent': 'Mozilla/5.0 (Macintosh; Intel Mac OS X 10_11_5) AppleWebKit/537.36 (KHTML, like Gecko) Chrome/50.0.2661.102 Safari/537.36'}\n",
    "\n",
    "response = requests.get(url, headers=headers)\n",
    "response"
   ]
  },
  {
   "cell_type": "code",
   "execution_count": 4,
   "metadata": {},
   "outputs": [],
   "source": [
    "data = response.text\n",
    "soup = BeautifulSoup(data, 'html.parser')"
   ]
  },
  {
   "cell_type": "code",
   "execution_count": 67,
   "metadata": {},
   "outputs": [
    {
     "name": "stdout",
     "output_type": "stream",
     "text": [
      "Total results:  231 Junior Data Analyst Jobs in Greater Florianopolis\n",
      "\n",
      "            (23 new)\n"
     ]
    }
   ],
   "source": [
    "# Get the number of jobs available\n",
    "results = soup.find(\"h1\")\n",
    "print(\"Total results: \", results.text.strip())"
   ]
  },
  {
   "cell_type": "code",
   "execution_count": 45,
   "metadata": {},
   "outputs": [],
   "source": [
    "ids = []\n",
    "titles = []\n",
    "companies = []\n",
    "locations = []\n",
    "dates = []\n",
    "links = []\n",
    "descriptions = []\n",
    "seniorities = []\n",
    "emp_types = []\n",
    "job_funcs = []\n",
    "industries = []"
   ]
  },
  {
   "cell_type": "code",
   "execution_count": 43,
   "metadata": {},
   "outputs": [
    {
     "name": "stdout",
     "output_type": "stream",
     "text": [
      "urn:li:jobPosting:3247489068\n",
      "urn:li:jobPosting:3289953005\n",
      "urn:li:jobPosting:3283612343\n",
      "urn:li:jobPosting:3273971302\n",
      "urn:li:jobPosting:3269138473\n",
      "urn:li:jobPosting:3247509325\n",
      "urn:li:jobPosting:3255755934\n",
      "urn:li:jobPosting:3272108081\n",
      "urn:li:jobPosting:3274894028\n",
      "urn:li:jobPosting:3278937176\n",
      "urn:li:jobPosting:3291400271\n",
      "urn:li:jobPosting:3274713572\n",
      "urn:li:jobPosting:3254129701\n",
      "urn:li:jobPosting:3277799112\n",
      "urn:li:jobPosting:3254125260\n",
      "urn:li:jobPosting:3269535386\n",
      "urn:li:jobPosting:3266600106\n",
      "urn:li:jobPosting:3275503397\n",
      "urn:li:jobPosting:3282312095\n",
      "urn:li:jobPosting:3275869698\n",
      "urn:li:jobPosting:3254129054\n",
      "urn:li:jobPosting:3289950549\n",
      "urn:li:jobPosting:3289935455\n",
      "urn:li:jobPosting:3288093957\n",
      "urn:li:jobPosting:3289939169\n"
     ]
    }
   ],
   "source": [
    "ids = soup.find_all(class_='base-card')\n",
    "\n",
    "for id in ids:\n",
    "    if id.has_attr('data-entity-urn'):\n",
    "        print(id.attrs['data-entity-urn'])"
   ]
  },
  {
   "cell_type": "code",
   "execution_count": 20,
   "metadata": {},
   "outputs": [
    {
     "name": "stdout",
     "output_type": "stream",
     "text": [
      "Engenheira(o) de Dados - Júnior (Remoto)\n",
      "Analista de Processos - Foco em analise de dados\n",
      "Sales Operations / Sales Data Analyst\n",
      "Analista de Dados\n",
      "ANALISTA DE DADOS\n",
      "Analista de Dados - Cresol Confederação\n",
      "Analista de Dados\n",
      "Analista de Processos - Foco em analise de dados\n",
      "Engenheiro(a) de Dados Júnior\n",
      "[BANCO DE TALENTOS] ESTÁGIO EM DESENVOLVIMENTO (QA)\n",
      "Magento Developer\n",
      "Engenheiro de dados\n",
      "Desenvolvedor Júnior\n",
      "Data Engineer - Online Job\n",
      "Desenvolvedor(a) - Squad Financeira (remoto)\n",
      "Desenvolvedor\n",
      "Data Engineer (PL / SR)\n",
      "Desenvolvedor Progress\n",
      "Backend- Pleno (PJ)\n",
      "GO PROGAMMERS - PIONEERING THE NEXT E-COMMERCE GENRATION (REMOTE FOR CALIFORNIA COMPANY)\n",
      "Desenvolvedor(a) - Squad Onbording (remoto)\n",
      "Desenvolvedor Delphi\n",
      "Applications Engineer\n",
      "Senior AWS Data Engineer (Remote, Global) - Min. $69k/Year USD\n",
      "Desenvolvedor Científico Pl./Sr.\n",
      "Welcome back\n",
      "Sign in for the full experience.\n"
     ]
    }
   ],
   "source": [
    "titles = soup.find_all(\"h3\")\n",
    "\n",
    "for title in titles:  \n",
    "  print(title.text.strip())"
   ]
  },
  {
   "cell_type": "code",
   "execution_count": 12,
   "metadata": {},
   "outputs": [
    {
     "name": "stdout",
     "output_type": "stream",
     "text": [
      "BIX Tech - Data Consulting\n",
      "INCENTIV\n",
      "FiberX\n",
      "Seazone\n",
      "Dynamox\n",
      "Cresol Cooperativa\n",
      "3Neuron\n",
      "Incentiv.me\n",
      "DOT Digital Group\n",
      "OZmap\n",
      "Zipdev\n",
      "Fator WoW!\n",
      "Pieta.tech\n",
      "Oowlish\n",
      "Conecta Lá\n",
      "BNE - Banco Nacional de Empregos\n",
      "DOJO - Smart Ways\n",
      "Datainfo Soluções em TI\n",
      "Incentiv.me\n",
      "Cyza\n",
      "Conecta Lá\n",
      "RHi Gestão de Pessoas\n",
      "E3S\n",
      "Exceptionly\n",
      "E3S\n"
     ]
    }
   ],
   "source": [
    "companies = soup.find_all(\"h4\")\n",
    "\n",
    "for company in companies:  \n",
    "  print(company.text.strip())"
   ]
  },
  {
   "cell_type": "code",
   "execution_count": 13,
   "metadata": {},
   "outputs": [
    {
     "name": "stdout",
     "output_type": "stream",
     "text": [
      "Florianópolis, Santa Catarina, Brazil\n",
      "Florianópolis, Santa Catarina, Brazil\n",
      "Florianópolis, Santa Catarina, Brazil\n",
      "Florianópolis, Santa Catarina, Brazil\n",
      "Florianópolis, Santa Catarina, Brazil\n",
      "Florianópolis, Santa Catarina, Brazil\n",
      "Florianópolis, Santa Catarina, Brazil\n",
      "Florianópolis, Santa Catarina, Brazil\n",
      "Florianópolis, Santa Catarina, Brazil\n",
      "Florianópolis, Santa Catarina, Brazil\n",
      "Florianópolis, Santa Catarina, Brazil\n",
      "Florianópolis, Santa Catarina, Brazil\n",
      "Florianópolis, Santa Catarina, Brazil\n",
      "Florianópolis, Santa Catarina, Brazil\n",
      "Florianópolis, Santa Catarina, Brazil\n",
      "Florianópolis, Santa Catarina, Brazil\n",
      "Florianópolis, Santa Catarina, Brazil\n",
      "Florianópolis, Santa Catarina, Brazil\n",
      "Florianópolis, Santa Catarina, Brazil\n",
      "São José, Santa Catarina, Brazil\n",
      "Florianópolis, Santa Catarina, Brazil\n",
      "Palhoça, Santa Catarina, Brazil\n",
      "Florianópolis, Santa Catarina, Brazil\n",
      "Florianópolis, Santa Catarina, Brazil\n",
      "Florianópolis, Santa Catarina, Brazil\n"
     ]
    }
   ],
   "source": [
    "locations = soup.find_all(class_='job-search-card__location')\n",
    "\n",
    "for location in locations:  \n",
    "  print(location.text.strip())"
   ]
  },
  {
   "cell_type": "code",
   "execution_count": 44,
   "metadata": {},
   "outputs": [
    {
     "name": "stdout",
     "output_type": "stream",
     "text": [
      "2022-09-01\n",
      "2022-09-26\n",
      "2022-09-22\n",
      "2022-08-23\n",
      "2022-09-17\n",
      "2022-09-01\n",
      "2022-08-12\n",
      "2022-09-15\n",
      "2022-09-22\n",
      "2022-08-28\n",
      "2022-09-27\n",
      "2022-08-25\n",
      "2022-09-09\n",
      "2022-09-27\n",
      "2022-09-09\n",
      "2022-09-14\n",
      "2022-09-12\n",
      "2022-08-24\n",
      "2022-09-22\n",
      "2022-09-26\n",
      "2022-09-09\n",
      "2022-09-26\n",
      "2022-09-26\n",
      "2022-09-27\n",
      "2022-09-26\n"
     ]
    }
   ],
   "source": [
    "dates = soup.find_all('time', datetime=True)\n",
    "for date in dates:\n",
    "    print(date['datetime'])"
   ]
  },
  {
   "cell_type": "code",
   "execution_count": 16,
   "metadata": {},
   "outputs": [
    {
     "name": "stdout",
     "output_type": "stream",
     "text": [
      "#main-content\n",
      "/?trk=public_jobs_nav-header-logo\n",
      "https://www.linkedin.com/signup/cold-join?source=jobs_registration&session_redirect=https%3A%2F%2Fwww.linkedin.com%2Fjobs%2Fsearch%3Fkeywords%3Djunior%2520data%2520analyst%26location%3DFlorianopolis%26refresh%3Dtrue&trk=public_jobs_nav-header-join\n",
      "https://www.linkedin.com/login?emailAddress=&fromSignIn=&fromSignIn=true&session_redirect=https%3A%2F%2Fwww.linkedin.com%2Fjobs%2Fsearch%3Fkeywords%3Djunior%2520data%2520analyst%26location%3DFlorianopolis%26refresh%3Dtrue&trk=public_jobs_nav-header-signin\n",
      "https://br.linkedin.com/jobs/view/engenheira-o-de-dados-j%C3%BAnior-remoto-at-bix-tecnologia-consultoria-de-dados-3247489068?refId=4QXYG4IJXsg5xM5Klei2Qg%3D%3D&trackingId=ci5pUpNQh%2FtWFSPMi7ipAw%3D%3D&position=1&pageNum=0&trk=public_jobs_jserp-result_search-card\n",
      "https://br.linkedin.com/company/bixtecnologia?trk=public_jobs_jserp-result_job-search-card-subtitle\n",
      "https://br.linkedin.com/jobs/view/analista-de-processos-foco-em-analise-de-dados-at-incentiv-3289953005?refId=4QXYG4IJXsg5xM5Klei2Qg%3D%3D&trackingId=AfTp2tePWh3QK0tsVwk0tQ%3D%3D&position=2&pageNum=0&trk=public_jobs_jserp-result_search-card\n",
      "https://br.linkedin.com/jobs/view/sales-operations-sales-data-analyst-at-fiberx-3283612343?refId=4QXYG4IJXsg5xM5Klei2Qg%3D%3D&trackingId=pnRxQmmt2N1EMVado%2FXiKw%3D%3D&position=3&pageNum=0&trk=public_jobs_jserp-result_search-card\n",
      "https://br.linkedin.com/company/fiberx-telecom?trk=public_jobs_jserp-result_job-search-card-subtitle\n",
      "https://br.linkedin.com/jobs/view/analista-de-dados-at-seazone-3273971302?refId=4QXYG4IJXsg5xM5Klei2Qg%3D%3D&trackingId=b07v2DVq5aqMt%2FUxzI5PCg%3D%3D&position=4&pageNum=0&trk=public_jobs_jserp-result_search-card\n",
      "https://br.linkedin.com/company/destinoseazone?trk=public_jobs_jserp-result_job-search-card-subtitle\n",
      "https://br.linkedin.com/jobs/view/analista-de-dados-at-dynamox-3269138473?refId=4QXYG4IJXsg5xM5Klei2Qg%3D%3D&trackingId=feDbUoG%2FYHw3lpKPd0Gnvg%3D%3D&position=5&pageNum=0&trk=public_jobs_jserp-result_search-card\n",
      "https://br.linkedin.com/company/dynamox?trk=public_jobs_jserp-result_job-search-card-subtitle\n",
      "https://br.linkedin.com/jobs/view/analista-de-dados-cresol-confedera%C3%A7%C3%A3o-at-cresol-cooperativa-3247509325?refId=4QXYG4IJXsg5xM5Klei2Qg%3D%3D&trackingId=cEZnqOCVAlrSviPndLmzXg%3D%3D&position=6&pageNum=0&trk=public_jobs_jserp-result_search-card\n",
      "https://br.linkedin.com/company/cresol_coop?trk=public_jobs_jserp-result_job-search-card-subtitle\n",
      "https://br.linkedin.com/jobs/view/analista-de-dados-at-3neuron-3255755934?refId=4QXYG4IJXsg5xM5Klei2Qg%3D%3D&trackingId=YGguAeGgZhcGpH2kUNDsRQ%3D%3D&position=7&pageNum=0&trk=public_jobs_jserp-result_search-card\n",
      "https://br.linkedin.com/company/3neuron?trk=public_jobs_jserp-result_job-search-card-subtitle\n",
      "https://br.linkedin.com/jobs/view/analista-de-processos-foco-em-analise-de-dados-at-incentiv-me-3272108081?refId=4QXYG4IJXsg5xM5Klei2Qg%3D%3D&trackingId=QfPmF5LEtnHp5J3IRQOrNg%3D%3D&position=8&pageNum=0&trk=public_jobs_jserp-result_search-card\n",
      "https://br.linkedin.com/company/incentiv.me?trk=public_jobs_jserp-result_job-search-card-subtitle\n",
      "https://br.linkedin.com/jobs/view/engenheiro-a-de-dados-j%C3%BAnior-at-dot-digital-group-3274894028?refId=4QXYG4IJXsg5xM5Klei2Qg%3D%3D&trackingId=Cwq3hDTzTJGOuOfH%2FmKvTw%3D%3D&position=9&pageNum=0&trk=public_jobs_jserp-result_search-card\n",
      "https://br.linkedin.com/company/dot-digital-group?trk=public_jobs_jserp-result_job-search-card-subtitle\n",
      "https://br.linkedin.com/jobs/view/banco-de-talentos-est%C3%A1gio-em-desenvolvimento-qa-at-ozmap-3278937176?refId=4QXYG4IJXsg5xM5Klei2Qg%3D%3D&trackingId=ZqjW7xrVzviESP4ct1m0qg%3D%3D&position=10&pageNum=0&trk=public_jobs_jserp-result_search-card\n",
      "https://br.linkedin.com/company/ozmap?trk=public_jobs_jserp-result_job-search-card-subtitle\n",
      "https://br.linkedin.com/jobs/view/magento-developer-at-zipdev-3291400271?refId=4QXYG4IJXsg5xM5Klei2Qg%3D%3D&trackingId=tFTtF9MFqcQFZn8wAK64QA%3D%3D&position=11&pageNum=0&trk=public_jobs_jserp-result_search-card\n",
      "https://www.linkedin.com/company/zipdev?trk=public_jobs_jserp-result_job-search-card-subtitle\n",
      "https://br.linkedin.com/jobs/view/engenheiro-de-dados-at-fator-wow%21-3274713572?refId=4QXYG4IJXsg5xM5Klei2Qg%3D%3D&trackingId=8Hajat7oxwaASD9w1SygZw%3D%3D&position=12&pageNum=0&trk=public_jobs_jserp-result_search-card\n",
      "https://br.linkedin.com/company/fatorwow?trk=public_jobs_jserp-result_job-search-card-subtitle\n",
      "https://br.linkedin.com/jobs/view/desenvolvedor-j%C3%BAnior-at-pieta-tech-3254129701?refId=4QXYG4IJXsg5xM5Klei2Qg%3D%3D&trackingId=V8Ry8KsD9tuf51I0hQ5aTw%3D%3D&position=13&pageNum=0&trk=public_jobs_jserp-result_search-card\n",
      "https://br.linkedin.com/company/pietatech?trk=public_jobs_jserp-result_job-search-card-subtitle\n",
      "https://br.linkedin.com/jobs/view/data-engineer-online-job-at-oowlish-3277799112?refId=4QXYG4IJXsg5xM5Klei2Qg%3D%3D&trackingId=Iu5PrmhIw896xyMMKr46sQ%3D%3D&position=14&pageNum=0&trk=public_jobs_jserp-result_search-card\n",
      "https://br.linkedin.com/company/oowlish?trk=public_jobs_jserp-result_job-search-card-subtitle\n",
      "https://br.linkedin.com/jobs/view/desenvolvedor-a-squad-financeira-remoto-at-conecta-l%C3%A1-3254125260?refId=4QXYG4IJXsg5xM5Klei2Qg%3D%3D&trackingId=2UVh6WVfnb%2BTy%2F4INgQ9EA%3D%3D&position=15&pageNum=0&trk=public_jobs_jserp-result_search-card\n",
      "https://br.linkedin.com/company/conecta-la?trk=public_jobs_jserp-result_job-search-card-subtitle\n",
      "https://br.linkedin.com/jobs/view/desenvolvedor-at-bne-banco-nacional-de-empregos-3269535386?refId=4QXYG4IJXsg5xM5Klei2Qg%3D%3D&trackingId=lCO4isq4gbWp364K7GTbPg%3D%3D&position=16&pageNum=0&trk=public_jobs_jserp-result_search-card\n",
      "https://br.linkedin.com/company/bneempregos?trk=public_jobs_jserp-result_job-search-card-subtitle\n",
      "https://br.linkedin.com/jobs/view/data-engineer-pl-sr-at-dojo-smart-ways-3266600106?refId=4QXYG4IJXsg5xM5Klei2Qg%3D%3D&trackingId=zT8gpsALzZaOtqwB1NCyuA%3D%3D&position=17&pageNum=0&trk=public_jobs_jserp-result_search-card\n",
      "https://br.linkedin.com/company/dojo-technology-consulting?trk=public_jobs_jserp-result_job-search-card-subtitle\n",
      "https://br.linkedin.com/jobs/view/desenvolvedor-progress-at-datainfo-3275503397?refId=4QXYG4IJXsg5xM5Klei2Qg%3D%3D&trackingId=Vmf4s6RIo4kz76UG3wpnXw%3D%3D&position=18&pageNum=0&trk=public_jobs_jserp-result_search-card\n",
      "https://br.linkedin.com/company/datainfo-ti?trk=public_jobs_jserp-result_job-search-card-subtitle\n",
      "https://br.linkedin.com/jobs/view/backend-pleno-pj-at-incentiv-me-3282312095?refId=4QXYG4IJXsg5xM5Klei2Qg%3D%3D&trackingId=q5PX6%2FKa5hqpUw2%2FlartPQ%3D%3D&position=19&pageNum=0&trk=public_jobs_jserp-result_search-card\n",
      "https://br.linkedin.com/company/incentiv.me?trk=public_jobs_jserp-result_job-search-card-subtitle\n",
      "https://br.linkedin.com/jobs/view/go-progammers-pioneering-the-next-e-commerce-genration-remote-for-california-company-at-cyza-3275869698?refId=4QXYG4IJXsg5xM5Klei2Qg%3D%3D&trackingId=EFG6e1%2F15%2BsOhx9hHaJz0A%3D%3D&position=20&pageNum=0&trk=public_jobs_jserp-result_search-card\n",
      "https://www.linkedin.com/company/cyza?trk=public_jobs_jserp-result_job-search-card-subtitle\n",
      "https://br.linkedin.com/jobs/view/desenvolvedor-a-squad-onbording-remoto-at-conecta-l%C3%A1-3254129054?refId=4QXYG4IJXsg5xM5Klei2Qg%3D%3D&trackingId=hPnbQnD%2BC3CBBfnYkvo2ug%3D%3D&position=21&pageNum=0&trk=public_jobs_jserp-result_search-card\n",
      "https://br.linkedin.com/company/conecta-la?trk=public_jobs_jserp-result_job-search-card-subtitle\n",
      "https://br.linkedin.com/jobs/view/desenvolvedor-delphi-at-rhi-gest%C3%A3o-de-pessoas-3289950549?refId=4QXYG4IJXsg5xM5Klei2Qg%3D%3D&trackingId=EGujdE94HzJDUippu9hFCQ%3D%3D&position=22&pageNum=0&trk=public_jobs_jserp-result_search-card\n",
      "https://br.linkedin.com/company/rhigestaodepessoas?trk=public_jobs_jserp-result_job-search-card-subtitle\n",
      "https://br.linkedin.com/jobs/view/applications-engineer-at-e3s-3289935455?refId=4QXYG4IJXsg5xM5Klei2Qg%3D%3D&trackingId=8lgcIK3rfHIQZ%2B5UWeGKOQ%3D%3D&position=23&pageNum=0&trk=public_jobs_jserp-result_search-card\n",
      "https://br.linkedin.com/jobs/view/senior-aws-data-engineer-remote-global-min-%2469k-year-usd-at-exceptionly-3288093957?refId=4QXYG4IJXsg5xM5Klei2Qg%3D%3D&trackingId=MPT4OgAg3IFKUUPc2qCazA%3D%3D&position=24&pageNum=0&trk=public_jobs_jserp-result_search-card\n",
      "https://www.linkedin.com/company/exceptionly?trk=public_jobs_jserp-result_job-search-card-subtitle\n",
      "https://br.linkedin.com/jobs/view/desenvolvedor-cient%C3%ADfico-pl-sr-at-e3s-3289939169?refId=4QXYG4IJXsg5xM5Klei2Qg%3D%3D&trackingId=Bnqy1zsA8o64P%2BobHFazwQ%3D%3D&position=25&pageNum=0&trk=public_jobs_jserp-result_search-card\n",
      "https://about.linkedin.com?trk=public_jobs_footer-about\n",
      "https://www.linkedin.com/accessibility?trk=public_jobs_footer-accessibility\n",
      "https://www.linkedin.com/legal/user-agreement?trk=public_jobs_footer-user-agreement\n",
      "https://www.linkedin.com/legal/privacy-policy?trk=public_jobs_footer-privacy-policy\n",
      "https://www.linkedin.com/legal/cookie-policy?trk=public_jobs_footer-cookie-policy\n",
      "https://www.linkedin.com/legal/copyright-policy?trk=public_jobs_footer-copyright-policy\n",
      "https://brand.linkedin.com/policies?trk=public_jobs_footer-brand-policy\n",
      "https://www.linkedin.com/psettings/guest-controls?trk=public_jobs_footer-guest-controls\n",
      "https://www.linkedin.com/legal/professional-community-policies?trk=public_jobs_footer-community-guide\n",
      "https://www.linkedin.com/legal/user-agreement?trk=public_jobs_create-alert-modal_create-alert-form_user-agreement\n",
      "https://www.linkedin.com/legal/privacy-policy?trk=public_jobs_create-alert-modal_create-alert-form_privacy-policy\n",
      "https://www.linkedin.com/login?emailAddress=&fromSignIn=&fromSignIn=true&session_redirect=https%3A%2F%2Fwww.linkedin.com%2Fjobs%2Fsearch%3Fkeywords%3Djunior%2520data%2520analyst%26location%3DFlorianopolis%26refresh%3Dtrue&trk=public_jobs_create-alert-modal_create-alert-form_over-limit-sign-in-link\n",
      "https://www.linkedin.com/uas/request-password-reset?trk=public_jobs_create-alert-modal_forgot_password\n",
      "https://www.linkedin.com/login?emailAddress=&fromSignIn=&trk=public_jobs_conversion-modal-signin&session_redirect=https%3A%2F%2Fwww.linkedin.com%2Fjobs%2Fsearch%3Fkeywords%3Djunior%2520data%2520analyst%26location%3DFlorianopolis%26refresh%3Dtrue\n",
      "https://www.linkedin.com/signup/cold-join?source=jobs_registration&trk=public_jobs_conversion-modal-join&session_redirect=https%3A%2F%2Fwww.linkedin.com%2Fjobs%2Fsearch%3Fkeywords%3Djunior%2520data%2520analyst%26location%3DFlorianopolis%26refresh%3Dtrue\n"
     ]
    }
   ],
   "source": [
    "links = soup.find_all('a', href=True)\n",
    "\n",
    "for link in links:  \n",
    "  print(link['href'])"
   ]
  }
 ],
 "metadata": {
  "kernelspec": {
   "display_name": "Python 3.9.12 ('venv': venv)",
   "language": "python",
   "name": "python3"
  },
  "language_info": {
   "codemirror_mode": {
    "name": "ipython",
    "version": 3
   },
   "file_extension": ".py",
   "mimetype": "text/x-python",
   "name": "python",
   "nbconvert_exporter": "python",
   "pygments_lexer": "ipython3",
   "version": "3.9.12"
  },
  "orig_nbformat": 4,
  "vscode": {
   "interpreter": {
    "hash": "b56079880b4f203121458df01208ec5d9fc16e539fe728c009530bd4e78724c6"
   }
  }
 },
 "nbformat": 4,
 "nbformat_minor": 2
}
