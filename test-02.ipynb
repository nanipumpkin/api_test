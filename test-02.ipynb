{
 "cells": [
  {
   "cell_type": "code",
   "execution_count": 1,
   "metadata": {},
   "outputs": [],
   "source": [
    "from selenium import webdriver\n",
    "import time\n",
    "import pandas as pd"
   ]
  },
  {
   "cell_type": "code",
   "execution_count": 4,
   "metadata": {},
   "outputs": [],
   "source": [
    "url = 'https://www.linkedin.com/jobs/search?keywords=junior%20data%20analyst&location=Florianopolis&refresh=true'"
   ]
  },
  {
   "cell_type": "code",
   "execution_count": 5,
   "metadata": {},
   "outputs": [],
   "source": [
    "wd = webdriver.Chrome()\n",
    "wd.get(url)"
   ]
  },
  {
   "cell_type": "code",
   "execution_count": 3,
   "metadata": {},
   "outputs": [],
   "source": [
    "from selenium.webdriver.common.by import By"
   ]
  },
  {
   "cell_type": "code",
   "execution_count": 6,
   "metadata": {},
   "outputs": [],
   "source": [
    "no_of_jobs = int(wd.find_element(By.CSS_SELECTOR, value='h1>span').get_attribute('innerText'))"
   ]
  },
  {
   "cell_type": "code",
   "execution_count": 7,
   "metadata": {},
   "outputs": [
    {
     "name": "stdout",
     "output_type": "stream",
     "text": [
      "65\n"
     ]
    }
   ],
   "source": [
    "print(no_of_jobs)"
   ]
  },
  {
   "cell_type": "code",
   "execution_count": 8,
   "metadata": {},
   "outputs": [],
   "source": [
    "i = 2\n",
    "while i <= int(no_of_jobs/25)+1: \n",
    "    wd.execute_script('window.scrollTo(0, document.body.scrollHeight);')\n",
    "    i = i + 1\n",
    "    try:\n",
    "        wd.find_element(By.XPATH, value='/html/body/main/div/section/button').click()\n",
    "        time.sleep(5)\n",
    "    except:\n",
    "        pass\n",
    "        time.sleep(5)"
   ]
  },
  {
   "cell_type": "code",
   "execution_count": 10,
   "metadata": {},
   "outputs": [],
   "source": [
    "job_lists = wd.find_element(By.CLASS_NAME, value='jobs-search__results-list')\n",
    "jobs = job_lists.find_elements(By.TAG_NAME, value='li') # return a list"
   ]
  },
  {
   "cell_type": "code",
   "execution_count": 11,
   "metadata": {},
   "outputs": [
    {
     "data": {
      "text/plain": [
       "65"
      ]
     },
     "execution_count": 11,
     "metadata": {},
     "output_type": "execute_result"
    }
   ],
   "source": [
    "len(jobs)"
   ]
  },
  {
   "cell_type": "code",
   "execution_count": 12,
   "metadata": {},
   "outputs": [
    {
     "ename": "NoSuchElementException",
     "evalue": "Message: no such element: Unable to locate element: {\"method\":\"css selector\",\"selector\":\".job-result-card__location\"}\n  (Session info: chrome=105.0.5195.102)\nStacktrace:\n#0 0x5626adb4ca93 <unknown>\n#1 0x5626ad96d3da <unknown>\n#2 0x5626ad9a42dc <unknown>\n#3 0x5626ad9a44a1 <unknown>\n#4 0x5626ad998b87 <unknown>\n#5 0x5626ad9c234d <unknown>\n#6 0x5626ad998ac5 <unknown>\n#7 0x5626ad9c242e <unknown>\n#8 0x5626ad9d5885 <unknown>\n#9 0x5626ad9c2213 <unknown>\n#10 0x5626ad997425 <unknown>\n#11 0x5626ad998565 <unknown>\n#12 0x5626adb91146 <unknown>\n#13 0x5626adb939d3 <unknown>\n#14 0x5626adb940d6 <unknown>\n#15 0x5626adb7b0de <unknown>\n#16 0x5626adb9471c <unknown>\n#17 0x5626adb6f402 <unknown>\n#18 0x5626adbae358 <unknown>\n#19 0x5626adbae4ec <unknown>\n#20 0x5626adbc7ab2 <unknown>\n#21 0x7fbdb7277609 <unknown>\n",
     "output_type": "error",
     "traceback": [
      "\u001b[0;31m---------------------------------------------------------------------------\u001b[0m",
      "\u001b[0;31mNoSuchElementException\u001b[0m                    Traceback (most recent call last)",
      "Cell \u001b[0;32mIn [12], line 18\u001b[0m\n\u001b[1;32m     15\u001b[0m company_name0 \u001b[38;5;241m=\u001b[39m job\u001b[38;5;241m.\u001b[39mfind_element(By\u001b[38;5;241m.\u001b[39mCSS_SELECTOR, value\u001b[38;5;241m=\u001b[39m\u001b[38;5;124m'\u001b[39m\u001b[38;5;124mh4\u001b[39m\u001b[38;5;124m'\u001b[39m)\u001b[38;5;241m.\u001b[39mtext\n\u001b[1;32m     16\u001b[0m company_name\u001b[38;5;241m.\u001b[39mappend(company_name0)\n\u001b[0;32m---> 18\u001b[0m location0 \u001b[38;5;241m=\u001b[39m \u001b[43mjob\u001b[49m\u001b[38;5;241;43m.\u001b[39;49m\u001b[43mfind_element\u001b[49m\u001b[43m(\u001b[49m\u001b[43mBy\u001b[49m\u001b[38;5;241;43m.\u001b[39;49m\u001b[43mCLASS_NAME\u001b[49m\u001b[43m,\u001b[49m\u001b[43m \u001b[49m\u001b[43mvalue\u001b[49m\u001b[38;5;241;43m=\u001b[39;49m\u001b[38;5;124;43m'\u001b[39;49m\u001b[38;5;124;43mjob-result-card__location\u001b[39;49m\u001b[38;5;124;43m'\u001b[39;49m\u001b[43m)\u001b[49m\u001b[38;5;241m.\u001b[39mtext\n\u001b[1;32m     19\u001b[0m location\u001b[38;5;241m.\u001b[39mappend(location0)\n\u001b[1;32m     21\u001b[0m date0 \u001b[38;5;241m=\u001b[39m job\u001b[38;5;241m.\u001b[39mfind_element(By\u001b[38;5;241m.\u001b[39mCSS_SELECTOR, value\u001b[38;5;241m=\u001b[39m\u001b[38;5;124m'\u001b[39m\u001b[38;5;124mdiv>div>time\u001b[39m\u001b[38;5;124m'\u001b[39m)\u001b[38;5;241m.\u001b[39mget_attribute(\u001b[38;5;124m'\u001b[39m\u001b[38;5;124mdatetime\u001b[39m\u001b[38;5;124m'\u001b[39m)\n",
      "File \u001b[0;32m~/code/api_test/venv/lib/python3.10/site-packages/selenium/webdriver/remote/webelement.py:419\u001b[0m, in \u001b[0;36mWebElement.find_element\u001b[0;34m(self, by, value)\u001b[0m\n\u001b[1;32m    416\u001b[0m     by \u001b[39m=\u001b[39m By\u001b[39m.\u001b[39mCSS_SELECTOR\n\u001b[1;32m    417\u001b[0m     value \u001b[39m=\u001b[39m \u001b[39m'\u001b[39m\u001b[39m[name=\u001b[39m\u001b[39m\"\u001b[39m\u001b[39m%s\u001b[39;00m\u001b[39m\"\u001b[39m\u001b[39m]\u001b[39m\u001b[39m'\u001b[39m \u001b[39m%\u001b[39m value\n\u001b[0;32m--> 419\u001b[0m \u001b[39mreturn\u001b[39;00m \u001b[39mself\u001b[39;49m\u001b[39m.\u001b[39;49m_execute(Command\u001b[39m.\u001b[39;49mFIND_CHILD_ELEMENT,\n\u001b[1;32m    420\u001b[0m                      {\u001b[39m\"\u001b[39;49m\u001b[39musing\u001b[39;49m\u001b[39m\"\u001b[39;49m: by, \u001b[39m\"\u001b[39;49m\u001b[39mvalue\u001b[39;49m\u001b[39m\"\u001b[39;49m: value})[\u001b[39m'\u001b[39m\u001b[39mvalue\u001b[39m\u001b[39m'\u001b[39m]\n",
      "File \u001b[0;32m~/code/api_test/venv/lib/python3.10/site-packages/selenium/webdriver/remote/webelement.py:396\u001b[0m, in \u001b[0;36mWebElement._execute\u001b[0;34m(self, command, params)\u001b[0m\n\u001b[1;32m    394\u001b[0m     params \u001b[39m=\u001b[39m {}\n\u001b[1;32m    395\u001b[0m params[\u001b[39m'\u001b[39m\u001b[39mid\u001b[39m\u001b[39m'\u001b[39m] \u001b[39m=\u001b[39m \u001b[39mself\u001b[39m\u001b[39m.\u001b[39m_id\n\u001b[0;32m--> 396\u001b[0m \u001b[39mreturn\u001b[39;00m \u001b[39mself\u001b[39;49m\u001b[39m.\u001b[39;49m_parent\u001b[39m.\u001b[39;49mexecute(command, params)\n",
      "File \u001b[0;32m~/code/api_test/venv/lib/python3.10/site-packages/selenium/webdriver/remote/webdriver.py:428\u001b[0m, in \u001b[0;36mWebDriver.execute\u001b[0;34m(self, driver_command, params)\u001b[0m\n\u001b[1;32m    426\u001b[0m response \u001b[39m=\u001b[39m \u001b[39mself\u001b[39m\u001b[39m.\u001b[39mcommand_executor\u001b[39m.\u001b[39mexecute(driver_command, params)\n\u001b[1;32m    427\u001b[0m \u001b[39mif\u001b[39;00m response:\n\u001b[0;32m--> 428\u001b[0m     \u001b[39mself\u001b[39;49m\u001b[39m.\u001b[39;49merror_handler\u001b[39m.\u001b[39;49mcheck_response(response)\n\u001b[1;32m    429\u001b[0m     response[\u001b[39m'\u001b[39m\u001b[39mvalue\u001b[39m\u001b[39m'\u001b[39m] \u001b[39m=\u001b[39m \u001b[39mself\u001b[39m\u001b[39m.\u001b[39m_unwrap_value(\n\u001b[1;32m    430\u001b[0m         response\u001b[39m.\u001b[39mget(\u001b[39m'\u001b[39m\u001b[39mvalue\u001b[39m\u001b[39m'\u001b[39m, \u001b[39mNone\u001b[39;00m))\n\u001b[1;32m    431\u001b[0m     \u001b[39mreturn\u001b[39;00m response\n",
      "File \u001b[0;32m~/code/api_test/venv/lib/python3.10/site-packages/selenium/webdriver/remote/errorhandler.py:243\u001b[0m, in \u001b[0;36mErrorHandler.check_response\u001b[0;34m(self, response)\u001b[0m\n\u001b[1;32m    241\u001b[0m         alert_text \u001b[39m=\u001b[39m value[\u001b[39m'\u001b[39m\u001b[39malert\u001b[39m\u001b[39m'\u001b[39m]\u001b[39m.\u001b[39mget(\u001b[39m'\u001b[39m\u001b[39mtext\u001b[39m\u001b[39m'\u001b[39m)\n\u001b[1;32m    242\u001b[0m     \u001b[39mraise\u001b[39;00m exception_class(message, screen, stacktrace, alert_text)  \u001b[39m# type: ignore[call-arg]  # mypy is not smart enough here\u001b[39;00m\n\u001b[0;32m--> 243\u001b[0m \u001b[39mraise\u001b[39;00m exception_class(message, screen, stacktrace)\n",
      "\u001b[0;31mNoSuchElementException\u001b[0m: Message: no such element: Unable to locate element: {\"method\":\"css selector\",\"selector\":\".job-result-card__location\"}\n  (Session info: chrome=105.0.5195.102)\nStacktrace:\n#0 0x5626adb4ca93 <unknown>\n#1 0x5626ad96d3da <unknown>\n#2 0x5626ad9a42dc <unknown>\n#3 0x5626ad9a44a1 <unknown>\n#4 0x5626ad998b87 <unknown>\n#5 0x5626ad9c234d <unknown>\n#6 0x5626ad998ac5 <unknown>\n#7 0x5626ad9c242e <unknown>\n#8 0x5626ad9d5885 <unknown>\n#9 0x5626ad9c2213 <unknown>\n#10 0x5626ad997425 <unknown>\n#11 0x5626ad998565 <unknown>\n#12 0x5626adb91146 <unknown>\n#13 0x5626adb939d3 <unknown>\n#14 0x5626adb940d6 <unknown>\n#15 0x5626adb7b0de <unknown>\n#16 0x5626adb9471c <unknown>\n#17 0x5626adb6f402 <unknown>\n#18 0x5626adbae358 <unknown>\n#19 0x5626adbae4ec <unknown>\n#20 0x5626adbc7ab2 <unknown>\n#21 0x7fbdb7277609 <unknown>\n"
     ]
    }
   ],
   "source": [
    "job_id= []\n",
    "job_title = []\n",
    "company_name = []\n",
    "location = []\n",
    "date = []\n",
    "job_link = []\n",
    "\n",
    "for job in jobs:\n",
    " job_id0 = job.get_attribute('data-id')\n",
    " job_id.append(job_id0)\n",
    " \n",
    " job_title0 = job.find_element(By.CSS_SELECTOR, value='h3').text\n",
    " job_title.append(job_title0)\n",
    " \n",
    " company_name0 = job.find_element(By.CSS_SELECTOR, value='h4').text\n",
    " company_name.append(company_name0)\n",
    " \n",
    " location0 = job.find_element(By.CLASS_NAME, value='job-result-card__location').text\n",
    " location.append(location0)\n",
    " \n",
    " date0 = job.find_element(By.CSS_SELECTOR, value='div>div>time').get_attribute('datetime')\n",
    " date.append(date0)\n",
    " \n",
    " job_link0 = job.find_element(By.CSS_SELECTOR, value='a').get_attribute('href')\n",
    " job_link.append(job_link0)\n"
   ]
  },
  {
   "cell_type": "code",
   "execution_count": null,
   "metadata": {},
   "outputs": [],
   "source": [
    "https://maoviola.medium.com/a-complete-guide-to-web-scraping-linkedin-job-postings-ad290fcaa97f"
   ]
  },
  {
   "cell_type": "code",
   "execution_count": null,
   "metadata": {},
   "outputs": [],
   "source": [
    "wd = webdriver.Chrome(executable_path=’./chromedriver.exe’）\n",
    "wd.get(url)"
   ]
  },
  {
   "cell_type": "code",
   "execution_count": 7,
   "metadata": {},
   "outputs": [
    {
     "ename": "SyntaxError",
     "evalue": "invalid character '）' (U+FF09) (3123066656.py, line 1)",
     "output_type": "error",
     "traceback": [
      "\u001b[0;36m  Cell \u001b[0;32mIn [7], line 1\u001b[0;36m\u001b[0m\n\u001b[0;31m    wd = webdriver.Chrome('chromedriver'）\u001b[0m\n\u001b[0m                                        ^\u001b[0m\n\u001b[0;31mSyntaxError\u001b[0m\u001b[0;31m:\u001b[0m invalid character '）' (U+FF09)\n"
     ]
    }
   ],
   "source": [
    "import chromedriver_binary  # Adds chromedriver binary to path\n",
    "\n",
    "driver = webdriver.Chrome()\n",
    "driver.get(\"http://www.python.org\")"
   ]
  },
  {
   "cell_type": "code",
   "execution_count": null,
   "metadata": {},
   "outputs": [],
   "source": [
    "https://www.linkedin.com/jobs/search/?currentJobId=3269767350&geoId=106057199&keywords=junior%20data%20analyst&location=Brazil&refresh=true"
   ]
  }
 ],
 "metadata": {
  "kernelspec": {
   "display_name": "Python 3.10.4 ('venv': venv)",
   "language": "python",
   "name": "python3"
  },
  "language_info": {
   "codemirror_mode": {
    "name": "ipython",
    "version": 3
   },
   "file_extension": ".py",
   "mimetype": "text/x-python",
   "name": "python",
   "nbconvert_exporter": "python",
   "pygments_lexer": "ipython3",
   "version": "3.10.4"
  },
  "orig_nbformat": 4,
  "vscode": {
   "interpreter": {
    "hash": "69c5e18227e9f6962c0cf535f1a2772d0d78d365521d1f3b44724e793e5686c0"
   }
  }
 },
 "nbformat": 4,
 "nbformat_minor": 2
}
