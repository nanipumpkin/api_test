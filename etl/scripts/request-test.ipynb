{
 "cells": [
  {
   "cell_type": "markdown",
   "metadata": {},
   "source": [
    "# Job Scrapping Test - Using Requests Library"
   ]
  },
  {
   "cell_type": "markdown",
   "metadata": {},
   "source": [
    "## 1. Download HTML file for job list"
   ]
  },
  {
   "cell_type": "code",
   "execution_count": 4,
   "metadata": {},
   "outputs": [
    {
     "name": "stdout",
     "output_type": "stream",
     "text": [
      "200\n"
     ]
    }
   ],
   "source": [
    "# Import the required library\n",
    "import requests\n",
    "\n",
    "# Get the zip file\n",
    "response = requests.get('https://www.linkedin.com/jobs/search?keywords=20data%20analyst&location=Florianopolis&refresh=true')\n",
    "\n",
    "# Print the status code\n",
    "print(response.status_code)\n",
    "\n",
    "# Save the file locally (more about open() in the next lesson)\n",
    "local_path = \"job-list.html\"\n",
    "with open(local_path, \"wb\") as f:\n",
    "    f.write(response.content)"
   ]
  },
  {
   "cell_type": "markdown",
   "metadata": {},
   "source": [
    "## 2. Download HTML file for job"
   ]
  },
  {
   "cell_type": "code",
   "execution_count": 23,
   "metadata": {},
   "outputs": [
    {
     "name": "stdout",
     "output_type": "stream",
     "text": [
      "200\n"
     ]
    }
   ],
   "source": [
    "# Get the zip file\n",
    "response = requests.get('https://www.linkedin.com/signup/cold-join?source=jobs_registration&session_redirect=https%3A%2F%2Fwww.linkedin.com%2Fjobs%2Fsearch%3Fkeywords%3Djunior%2520data%2520analyst%26location%3DFlorianopolis%26refresh%3Dtrue&trk=public_jobs_nav-header-join')\n",
    "\n",
    "# Print the status code\n",
    "print(response.status_code)\n",
    "\n",
    "# Save the file locally (more about open() in the next lesson)\n",
    "local_path = \"job0001.html\"\n",
    "with open(local_path, \"wb\") as f:\n",
    "    f.write(response.content)"
   ]
  },
  {
   "cell_type": "markdown",
   "metadata": {},
   "source": [
    "# ETL Flow Template - DataCamp: ETL in Python"
   ]
  },
  {
   "cell_type": "markdown",
   "metadata": {},
   "source": [
    "## 1. Download ZIP file\n",
    "*[Original Database Source: Property Services Regulatory Authority](https://www.propertypriceregister.ie/)*"
   ]
  },
  {
   "cell_type": "code",
   "execution_count": 13,
   "metadata": {},
   "outputs": [
    {
     "name": "stdout",
     "output_type": "stream",
     "text": [
      "200\n"
     ]
    }
   ],
   "source": [
    "# Import the required library\n",
    "import requests\n",
    "\n",
    "# Get the zip file\n",
    "response = requests.get('https://assets.datacamp.com/production/repositories/5899/datasets/19d6cf619d6a771314f0eb489262a31f89c424c2/ppr-all.zip')\n",
    "\n",
    "# Print the status code\n",
    "print(response.status_code)\n",
    "\n",
    "# Save the file locally (more about open() in the next lesson)\n",
    "local_path = f\"PPR-ALL.zip\"\n",
    "with open(local_path, \"wb\") as f:\n",
    "    f.write(response.content)"
   ]
  },
  {
   "cell_type": "markdown",
   "metadata": {},
   "source": [
    "## 2. Explore ZIP file"
   ]
  },
  {
   "cell_type": "code",
   "execution_count": 14,
   "metadata": {},
   "outputs": [
    {
     "name": "stdout",
     "output_type": "stream",
     "text": [
      "['ppr-all.csv']\n",
      "/home/marianne/code/web_scraping_jobs/ppr-all.csv\n"
     ]
    }
   ],
   "source": [
    "# Import the required method\n",
    "from zipfile import ZipFile\n",
    "\n",
    "with ZipFile('PPR-ALL.zip', \"r\") as f:\n",
    "    # Get the list of files\n",
    "    file_names = f.namelist()\n",
    "    print(file_names)\n",
    "    # Extract the CSV file\n",
    "    csv_file_path = f.extract(file_names[0])\n",
    "    print(csv_file_path)"
   ]
  },
  {
   "cell_type": "markdown",
   "metadata": {},
   "source": [
    "## 3. Read from a CSV file"
   ]
  },
  {
   "cell_type": "code",
   "execution_count": 17,
   "metadata": {},
   "outputs": [
    {
     "name": "stdout",
     "output_type": "stream",
     "text": [
      "<class 'dict'>\n",
      "{'Address': '16 BURLEIGH COURT, BURLINGTON ROAD, DUBLIN 4',\n",
      " 'County': 'Dublin',\n",
      " 'Date of Sale (dd/mm/yyyy)': '03/01/2021',\n",
      " 'Description of Property': 'Second-Hand Dwelling house /Apartment',\n",
      " 'Postal Code': 'Dublin 4',\n",
      " 'Price (€)': '€450,000.00'}\n"
     ]
    }
   ],
   "source": [
    "import csv\n",
    "from pprint import pprint\n",
    "\n",
    "# Open the csv file in read mode\n",
    "with open('ppr-all.csv', mode=\"r\", encoding=\"windows-1252\") as csv_file:\n",
    "    # Open csv_file so that each row is a dictionary\n",
    "    reader = csv.DictReader(csv_file)\n",
    "    \n",
    "    # Print the first row\n",
    "    row = next(reader)\n",
    "    print(type(row))\n",
    "    pprint(row)"
   ]
  },
  {
   "cell_type": "markdown",
   "metadata": {},
   "source": [
    "## 4. Write to CSV"
   ]
  },
  {
   "cell_type": "code",
   "execution_count": 21,
   "metadata": {},
   "outputs": [],
   "source": [
    "new_column_names = {\n",
    "    \"Date of Sale (dd/mm/yyyy)\": \"date_of_sale\",\n",
    "    \"Address\": \"address\",\n",
    "    \"Postal Code\": \"postal_code\",\n",
    "    \"County\": \"county\",\n",
    "    \"Price (€)\": \"price\",\n",
    "    \"Description of Property\": \"description\",\n",
    "}"
   ]
  },
  {
   "cell_type": "code",
   "execution_count": 22,
   "metadata": {},
   "outputs": [],
   "source": [
    "import csv\n",
    "\n",
    "with open('ppr-all.csv', mode=\"r\", encoding=\"windows-1252\") as reader_csv_file:\n",
    "    reader = csv.DictReader(reader_csv_file)\n",
    "    # The new file is called \"PPR-2021-Dublin-new-headers.csv\"\n",
    "    # and will be saved inside the \"tmp\" folder    \n",
    "    with open(\"ppr-all.csv-new-headers.csv\",\n",
    "                    mode=\"w\",\n",
    "                    encoding=\"windows-1252\",\n",
    "                ) as writer_csv_file:\n",
    "        writer = csv.DictWriter(writer_csv_file, fieldnames=new_column_names)\n",
    "        # Write header as first line\n",
    "        writer.writerow(new_column_names)\n",
    "        for row in reader:\n",
    "\t        # Write all rows in file\n",
    "\t        writer.writerow(row)"
   ]
  }
 ],
 "metadata": {
  "kernelspec": {
   "display_name": "Python 3.9.12 ('venv': venv)",
   "language": "python",
   "name": "python3"
  },
  "language_info": {
   "codemirror_mode": {
    "name": "ipython",
    "version": 3
   },
   "file_extension": ".py",
   "mimetype": "text/x-python",
   "name": "python",
   "nbconvert_exporter": "python",
   "pygments_lexer": "ipython3",
   "version": "3.9.12"
  },
  "orig_nbformat": 4,
  "vscode": {
   "interpreter": {
    "hash": "b56079880b4f203121458df01208ec5d9fc16e539fe728c009530bd4e78724c6"
   }
  }
 },
 "nbformat": 4,
 "nbformat_minor": 2
}
