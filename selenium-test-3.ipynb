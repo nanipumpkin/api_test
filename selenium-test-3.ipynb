{
 "cells": [
  {
   "cell_type": "code",
   "execution_count": null,
   "metadata": {},
   "outputs": [],
   "source": [
    "# Import libraries\n",
    "import time\n",
    "from selenium import webdriver\n",
    "from webdriver_manager.chrome import ChromeDriverManager\n",
    "import csv\n",
    "import pandas as pd"
   ]
  },
  {
   "cell_type": "code",
   "execution_count": null,
   "metadata": {},
   "outputs": [],
   "source": [
    "# Setup project target, example: Data Science Junior Jobs in Florianopolis\n",
    "url = 'https://www.linkedin.com/jobs/search?keywords=junior%20data%20analyst&location=Florianopolis&refresh=true'"
   ]
  },
  {
   "cell_type": "code",
   "execution_count": null,
   "metadata": {},
   "outputs": [],
   "source": [
    "# Setup chromedriver \n",
    "try:\n",
    "    wd = webdriver.Chrome()\n",
    "except:\n",
    "    wd = webdriver.Chrome(ChromeDriverManager().install())\n",
    "wd.get(url)\n"
   ]
  },
  {
   "cell_type": "code",
   "execution_count": null,
   "metadata": {},
   "outputs": [],
   "source": [
    "from selenium.webdriver.common.by import By"
   ]
  },
  {
   "cell_type": "code",
   "execution_count": null,
   "metadata": {},
   "outputs": [],
   "source": [
    "# Get the number of jobs available\n",
    "no_of_jobs = int(wd.find_element(By.CSS_SELECTOR, value='h1>span').get_attribute('innerText'))\n",
    "print(no_of_jobs)"
   ]
  },
  {
   "cell_type": "code",
   "execution_count": null,
   "metadata": {},
   "outputs": [],
   "source": [
    "# Browse all the jobs\n",
    "i = 2\n",
    "while i <= int(no_of_jobs/25)+1: \n",
    "    wd.execute_script('window.scrollTo(0, document.body.scrollHeight);')\n",
    "    i = i + 1\n",
    "    try:\n",
    "        wd.find_element(By.XPATH, value='/html/body/main/div/section/button').click()\n",
    "        time.sleep(5)\n",
    "    except:\n",
    "        pass\n",
    "        time.sleep(5)\n",
    "\n",
    "    "
   ]
  },
  {
   "cell_type": "code",
   "execution_count": null,
   "metadata": {},
   "outputs": [],
   "source": [
    "# Find all the jobs\n",
    "job_lists = wd.find_element(By.CLASS_NAME, value='jobs-search__results-list')\n",
    "jobs = job_lists.find_elements(By.TAG_NAME, value='li') # return a list"
   ]
  },
  {
   "cell_type": "code",
   "execution_count": null,
   "metadata": {},
   "outputs": [],
   "source": [
    "# Check the number of jobs on the list\n",
    "len(jobs)"
   ]
  },
  {
   "cell_type": "code",
   "execution_count": null,
   "metadata": {},
   "outputs": [],
   "source": [
    "# Initalizing job details into dataframe\n",
    "job_id = []\n",
    "job_title = []\n",
    "company_name = []\n",
    "location = []\n",
    "date = []\n",
    "job_link = []\n",
    "jd = []\n",
    "seniority = []\n",
    "emp_type = []\n",
    "job_func = []\n",
    "industries = []"
   ]
  },
  {
   "cell_type": "code",
   "execution_count": null,
   "metadata": {},
   "outputs": [],
   "source": [
    "# Loading job details into dataframe\n",
    "for job in jobs:\n",
    "        job_id0 = job.find_element(By.CLASS_NAME, value='base-card').get_attribute('data-entity-urn')\n",
    "        job_id.append(job_id0)\n",
    " \n",
    "        job_title0 = job.find_element(By.CSS_SELECTOR, value='h3').text\n",
    "        job_title.append(job_title0)\n",
    " \n",
    "        company_name0 = job.find_element(By.CSS_SELECTOR, value='h4').text\n",
    "        company_name.append(company_name0)\n",
    " \n",
    "        location0 = job.find_element(By.CLASS_NAME, value='job-search-card__location').text\n",
    "        location.append(location0)\n",
    " \n",
    "        date0 = job.find_element(By.CSS_SELECTOR, value='div>div>time').get_attribute('datetime')\n",
    "        date.append(date0)\n",
    " \n",
    "        job_link0 = job.find_element(By.CSS_SELECTOR, value='a').get_attribute('href')\n",
    "        job_link.append(job_link0) \n",
    "\n",
    "\n",
    "        # Creating the soon to be filled columns of each job\n",
    "        \n",
    "        jd.append(\" \")\n",
    "        seniority.append(\" \")\n",
    "        emp_type.append(\" \")\n",
    "        job_func.append(\" \")\n",
    "        industries.append(\" \")\n",
    "\n"
   ]
  },
  {
   "cell_type": "code",
   "execution_count": null,
   "metadata": {},
   "outputs": [],
   "source": [
    "print(len(jobs))"
   ]
  },
  {
   "cell_type": "code",
   "execution_count": null,
   "metadata": {},
   "outputs": [],
   "source": [
    "# Load data into DataFrame for further analysis\n",
    "job_data = pd.DataFrame({'ID': job_id,\n",
    "                         'Date': date,\n",
    "                         'Company': company_name,\n",
    "                         'Title': job_title,\n",
    "                         'Location': location,\n",
    "                         'Link': job_link,\n",
    "                         'Description': jd,\n",
    "                         'Level': seniority,\n",
    "                         'Type': emp_type,\n",
    "                         'Function': job_func,\n",
    "                         'Industry': industries\n",
    "                         })\n",
    "job_data.to_csv('linkedin_jobs_data-3.csv', index=False)"
   ]
  },
  {
   "cell_type": "code",
   "execution_count": null,
   "metadata": {},
   "outputs": [],
   "source": [
    "# Load further details\n",
    "filename = 'linkedin_jobs_data-3.csv'\n",
    "# Opening csv file to read job links\n",
    "\n",
    "with open(filename, 'r') as csvfile: \n",
    "    csvreader = csv.reader(csvfile)\n",
    "    next(csvreader)\n",
    "\n",
    "    for job in csvreader:\n",
    "        # Indicates which job is going to be updated\n",
    "        CSVtabelIndex = 0\n",
    "\n",
    "        url = job[5]\n",
    "        print(\"Current Scraped Url:\\n\",url)\n",
    "        wd.get(url)\n",
    "\n",
    "        # Selecting elements that hold the job description (about)\n",
    "        jd0 = wd.find_element(By.CLASS_NAME, value='show-more-less-html__markup').get_attribute(\"innerHTML\")\n",
    "        print(jd0)\n",
    "\n",
    "        # Selecting elements that hold job 4 criterias \n",
    "        job = wd.find_elements(By.CLASS_NAME, value='description__job-criteria-item')\n",
    "\n",
    "        seniority0 = job[0].find_element(By.CLASS_NAME, value='description__job-criteria-text').text\n",
    "        \n",
    "        emp_type0 = job[1].find_element(By.CLASS_NAME, value='description__job-criteria-text').text\n",
    "        \n",
    "        job_func0 = job[2].find_element(By.CLASS_NAME, value='description__job-criteria-text').text\n",
    "\n",
    "        industries0 = job[3].find_element(By.CLASS_NAME, value='description__job-criteria-text').text\n",
    "\n",
    "        # Adding new information to the existing jobs \n",
    "        jd[CSVtabelIndex] = jd0\n",
    "        seniority[CSVtabelIndex] = seniority0\n",
    "        emp_type[CSVtabelIndex]= emp_type0\n",
    "        job_func[CSVtabelIndex] = job_func0         \n",
    "        industries[CSVtabelIndex] = industries0\n",
    "\n",
    "        CSVtabelIndex = CSVtabelIndex + 1\n",
    "        break\n",
    "        time.sleep(5)\n"
   ]
  },
  {
   "cell_type": "code",
   "execution_count": null,
   "metadata": {},
   "outputs": [],
   "source": [
    "#Load data into DataFrame for further analysis\n",
    "job_data = pd.DataFrame({'ID': job_id,\n",
    "                         'Date': date,\n",
    "                         'Company': company_name,\n",
    "                         'Title': job_title,\n",
    "                         'Location': location,\n",
    "                         'Link': job_link,\n",
    "                         'Description': jd,\n",
    "                         'Level': seniority,\n",
    "                         'Type': emp_type,\n",
    "                         'Function': job_func,\n",
    "                         'Industry': industries\n",
    "                         })\n",
    "\n",
    "job_data.to_csv('linkedin_jobs_data-3.csv', index=False)"
   ]
  }
 ],
 "metadata": {
  "kernelspec": {
   "display_name": "my-virtualenv-name",
   "language": "python",
   "name": "my-virtualenv-name"
  },
  "language_info": {
   "codemirror_mode": {
    "name": "ipython",
    "version": 3
   },
   "file_extension": ".py",
   "mimetype": "text/x-python",
   "name": "python",
   "nbconvert_exporter": "python",
   "pygments_lexer": "ipython3",
   "version": "3.10.6"
  },
  "orig_nbformat": 4,
  "vscode": {
   "interpreter": {
    "hash": "916dbcbb3f70747c44a77c7bcd40155683ae19c65e1c03b4aa3499c5328201f1"
   }
  }
 },
 "nbformat": 4,
 "nbformat_minor": 2
}
