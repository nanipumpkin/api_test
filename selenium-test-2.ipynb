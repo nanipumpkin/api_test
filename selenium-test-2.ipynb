{
 "cells": [
  {
   "cell_type": "code",
   "execution_count": 61,
   "metadata": {},
   "outputs": [],
   "source": [
    "# Import libraries\n",
    "from selenium import webdriver\n",
    "import time\n",
    "import pandas as pd"
   ]
  },
  {
   "cell_type": "code",
   "execution_count": 62,
   "metadata": {},
   "outputs": [],
   "source": [
    "# Setup project target, example: Data Science Junior Jobs in Florianopolis\n",
    "url = 'https://www.linkedin.com/jobs/search?keywords=junior%20data%20analyst&location=Florianopolis&refresh=true'"
   ]
  },
  {
   "cell_type": "code",
   "execution_count": 63,
   "metadata": {},
   "outputs": [],
   "source": [
    "# Setup chromedriver \n",
    "wd = webdriver.Chrome()\n",
    "wd.get(url)"
   ]
  },
  {
   "cell_type": "code",
   "execution_count": 64,
   "metadata": {},
   "outputs": [],
   "source": [
    "from selenium.webdriver.common.by import By"
   ]
  },
  {
   "cell_type": "code",
   "execution_count": 65,
   "metadata": {},
   "outputs": [
    {
     "name": "stdout",
     "output_type": "stream",
     "text": [
      "111\n"
     ]
    }
   ],
   "source": [
    "# Get the number of jobs available\n",
    "no_of_jobs = int(wd.find_element(By.CSS_SELECTOR, value='h1>span').get_attribute('innerText'))\n",
    "print(no_of_jobs)"
   ]
  },
  {
   "cell_type": "code",
   "execution_count": 66,
   "metadata": {},
   "outputs": [],
   "source": [
    "# Browse all the jobs\n",
    "i = 2\n",
    "while i <= int(no_of_jobs/25)+1: \n",
    "    wd.execute_script('window.scrollTo(0, document.body.scrollHeight);')\n",
    "    i = i + 1\n",
    "    try:\n",
    "        wd.find_element(By.XPATH, value='/html/body/main/div/section/button').click()\n",
    "        time.sleep(5)\n",
    "    except:\n",
    "        pass\n",
    "        time.sleep(5)"
   ]
  },
  {
   "cell_type": "code",
   "execution_count": 67,
   "metadata": {},
   "outputs": [],
   "source": [
    "# Find all the jobs\n",
    "job_lists = wd.find_element(By.CLASS_NAME, value='jobs-search__results-list')\n",
    "jobs = job_lists.find_elements(By.TAG_NAME, value='li') # return a list"
   ]
  },
  {
   "cell_type": "code",
   "execution_count": 68,
   "metadata": {},
   "outputs": [
    {
     "data": {
      "text/plain": [
       "108"
      ]
     },
     "execution_count": 68,
     "metadata": {},
     "output_type": "execute_result"
    }
   ],
   "source": [
    "# Check the number of jobs on the list\n",
    "len(jobs)"
   ]
  },
  {
   "cell_type": "code",
   "execution_count": 74,
   "metadata": {},
   "outputs": [],
   "source": [
    "# Load job details into dataframe\n",
    "job_id = []\n",
    "job_title = []\n",
    "company_name = []\n",
    "location = []\n",
    "date = []\n",
    "job_link = []\n",
    "\n",
    "for job in jobs:\n",
    "        job_id0 = job.find_element(By.CLASS_NAME, value='base-card').get_attribute('data-entity-urn')\n",
    "        job_id.append(job_id0)\n",
    " \n",
    "        job_title0 = job.find_element(By.CSS_SELECTOR, value='h3').text\n",
    "        job_title.append(job_title0)\n",
    " \n",
    "        company_name0 = job.find_element(By.CSS_SELECTOR, value='h4').text\n",
    "        company_name.append(company_name0)\n",
    " \n",
    "        location0 = job.find_element(By.CLASS_NAME, value='job-search-card__location').text\n",
    "        location.append(location0)\n",
    " \n",
    "        date0 = job.find_element(By.CSS_SELECTOR, value='div>div>time').get_attribute('datetime')\n",
    "        date.append(date0)\n",
    " \n",
    "        job_link0 = job.find_element(By.CSS_SELECTOR, value='a').get_attribute('href')\n",
    "        job_link.append(job_link0)"
   ]
  },
  {
   "cell_type": "code",
   "execution_count": 75,
   "metadata": {},
   "outputs": [
    {
     "name": "stdout",
     "output_type": "stream",
     "text": [
      "108\n"
     ]
    }
   ],
   "source": [
    "print(len(jobs))"
   ]
  },
  {
   "cell_type": "code",
   "execution_count": 78,
   "metadata": {},
   "outputs": [
    {
     "ename": "AttributeError",
     "evalue": "'str' object has no attribute 'click'",
     "output_type": "error",
     "traceback": [
      "\u001b[0;31m---------------------------------------------------------------------------\u001b[0m",
      "\u001b[0;31mAttributeError\u001b[0m                            Traceback (most recent call last)",
      "\u001b[1;32m/home/marianne/code/web_scraping_jobs/selenium-test-2.ipynb Cell 11\u001b[0m in \u001b[0;36m<cell line: 8>\u001b[0;34m()\u001b[0m\n\u001b[1;32m     <a href='vscode-notebook-cell:/home/marianne/code/web_scraping_jobs/selenium-test-2.ipynb#X22sZmlsZQ%3D%3D?line=9'>10</a>\u001b[0m  industries0\u001b[39m=\u001b[39m[]\n\u001b[1;32m     <a href='vscode-notebook-cell:/home/marianne/code/web_scraping_jobs/selenium-test-2.ipynb#X22sZmlsZQ%3D%3D?line=11'>12</a>\u001b[0m \u001b[39m# clicking job to view job details\u001b[39;00m\n\u001b[0;32m---> <a href='vscode-notebook-cell:/home/marianne/code/web_scraping_jobs/selenium-test-2.ipynb#X22sZmlsZQ%3D%3D?line=12'>13</a>\u001b[0m  job_click \u001b[39m=\u001b[39m job\u001b[39m.\u001b[39;49mfind_element(By\u001b[39m.\u001b[39;49mCSS_SELECTOR, value\u001b[39m=\u001b[39;49m\u001b[39m'\u001b[39;49m\u001b[39ma\u001b[39;49m\u001b[39m'\u001b[39;49m)\u001b[39m.\u001b[39;49mget_attribute(\u001b[39m'\u001b[39;49m\u001b[39mhref\u001b[39;49m\u001b[39m'\u001b[39;49m)\u001b[39m.\u001b[39;49mclick()\n\u001b[1;32m     <a href='vscode-notebook-cell:/home/marianne/code/web_scraping_jobs/selenium-test-2.ipynb#X22sZmlsZQ%3D%3D?line=13'>14</a>\u001b[0m  time\u001b[39m.\u001b[39msleep(\u001b[39m5\u001b[39m)\n",
      "\u001b[0;31mAttributeError\u001b[0m: 'str' object has no attribute 'click'"
     ]
    }
   ],
   "source": [
    "# Load further details\n",
    "jd = []\n",
    "seniority = []\n",
    "emp_type = []\n",
    "job_func = []\n",
    "industries = []\n",
    "\n",
    "for item in range(len(jobs)):\n",
    " job_func0=[]\n",
    " industries0=[]\n",
    "\n",
    "# clicking job to view job details\n",
    " job_click = job.find_element(By.CSS_SELECTOR, value='a').get_attribute('href').click()\n",
    " time.sleep(5)"
   ]
  },
  {
   "cell_type": "code",
   "execution_count": 53,
   "metadata": {},
   "outputs": [
    {
     "ename": "InvalidArgumentException",
     "evalue": "Message: invalid argument: 'url' must be a string\n  (Session info: chrome=105.0.5195.125)\nStacktrace:\n#0 0x56497b2ece63 <unknown>\n#1 0x56497b10d3aa <unknown>\n#2 0x56497b176131 <unknown>\n#3 0x56497b1622e2 <unknown>\n#4 0x56497b175895 <unknown>\n#5 0x56497b1621d3 <unknown>\n#6 0x56497b137425 <unknown>\n#7 0x56497b138565 <unknown>\n#8 0x56497b3319d6 <unknown>\n#9 0x56497b334263 <unknown>\n#10 0x56497b334966 <unknown>\n#11 0x56497b31b88e <unknown>\n#12 0x56497b334fac <unknown>\n#13 0x56497b30ffbe <unknown>\n#14 0x56497b34ec68 <unknown>\n#15 0x56497b34edfc <unknown>\n#16 0x56497b368382 <unknown>\n#17 0x7fe4c62ee609 <unknown>\n",
     "output_type": "error",
     "traceback": [
      "\u001b[0;31m---------------------------------------------------------------------------\u001b[0m",
      "\u001b[0;31mInvalidArgumentException\u001b[0m                  Traceback (most recent call last)",
      "\u001b[1;32m/home/marianne/code/web_scraping_jobs/selenium-test-2.ipynb Cell 11\u001b[0m in \u001b[0;36m<cell line: 8>\u001b[0;34m()\u001b[0m\n\u001b[1;32m     <a href='vscode-notebook-cell:/home/marianne/code/web_scraping_jobs/selenium-test-2.ipynb#X14sZmlsZQ%3D%3D?line=9'>10</a>\u001b[0m  industries0\u001b[39m=\u001b[39m[]\n\u001b[1;32m     <a href='vscode-notebook-cell:/home/marianne/code/web_scraping_jobs/selenium-test-2.ipynb#X14sZmlsZQ%3D%3D?line=11'>12</a>\u001b[0m \u001b[39m# clicking job to view job details\u001b[39;00m\n\u001b[0;32m---> <a href='vscode-notebook-cell:/home/marianne/code/web_scraping_jobs/selenium-test-2.ipynb#X14sZmlsZQ%3D%3D?line=13'>14</a>\u001b[0m  job_click_path \u001b[39m=\u001b[39m wd\u001b[39m.\u001b[39;49mget(job_link)\n\u001b[1;32m     <a href='vscode-notebook-cell:/home/marianne/code/web_scraping_jobs/selenium-test-2.ipynb#X14sZmlsZQ%3D%3D?line=14'>15</a>\u001b[0m  time\u001b[39m.\u001b[39msleep(\u001b[39m5\u001b[39m)\n\u001b[1;32m     <a href='vscode-notebook-cell:/home/marianne/code/web_scraping_jobs/selenium-test-2.ipynb#X14sZmlsZQ%3D%3D?line=16'>17</a>\u001b[0m  jd0 \u001b[39m=\u001b[39m job\u001b[39m.\u001b[39mfind_element(By\u001b[39m.\u001b[39mCLASS_NAME, value\u001b[39m=\u001b[39m\u001b[39m'\u001b[39m\u001b[39mshow-more-less-html__markup\u001b[39m\u001b[39m'\u001b[39m)\u001b[39m.\u001b[39mtext\n",
      "File \u001b[0;32m~/anaconda3/lib/python3.9/site-packages/selenium/webdriver/remote/webdriver.py:440\u001b[0m, in \u001b[0;36mWebDriver.get\u001b[0;34m(self, url)\u001b[0m\n\u001b[1;32m    436\u001b[0m \u001b[39mdef\u001b[39;00m \u001b[39mget\u001b[39m(\u001b[39mself\u001b[39m, url: \u001b[39mstr\u001b[39m) \u001b[39m-\u001b[39m\u001b[39m>\u001b[39m \u001b[39mNone\u001b[39;00m:\n\u001b[1;32m    437\u001b[0m     \u001b[39m\"\"\"\u001b[39;00m\n\u001b[1;32m    438\u001b[0m \u001b[39m    Loads a web page in the current browser session.\u001b[39;00m\n\u001b[1;32m    439\u001b[0m \u001b[39m    \"\"\"\u001b[39;00m\n\u001b[0;32m--> 440\u001b[0m     \u001b[39mself\u001b[39;49m\u001b[39m.\u001b[39;49mexecute(Command\u001b[39m.\u001b[39;49mGET, {\u001b[39m'\u001b[39;49m\u001b[39murl\u001b[39;49m\u001b[39m'\u001b[39;49m: url})\n",
      "File \u001b[0;32m~/anaconda3/lib/python3.9/site-packages/selenium/webdriver/remote/webdriver.py:428\u001b[0m, in \u001b[0;36mWebDriver.execute\u001b[0;34m(self, driver_command, params)\u001b[0m\n\u001b[1;32m    426\u001b[0m response \u001b[39m=\u001b[39m \u001b[39mself\u001b[39m\u001b[39m.\u001b[39mcommand_executor\u001b[39m.\u001b[39mexecute(driver_command, params)\n\u001b[1;32m    427\u001b[0m \u001b[39mif\u001b[39;00m response:\n\u001b[0;32m--> 428\u001b[0m     \u001b[39mself\u001b[39;49m\u001b[39m.\u001b[39;49merror_handler\u001b[39m.\u001b[39;49mcheck_response(response)\n\u001b[1;32m    429\u001b[0m     response[\u001b[39m'\u001b[39m\u001b[39mvalue\u001b[39m\u001b[39m'\u001b[39m] \u001b[39m=\u001b[39m \u001b[39mself\u001b[39m\u001b[39m.\u001b[39m_unwrap_value(\n\u001b[1;32m    430\u001b[0m         response\u001b[39m.\u001b[39mget(\u001b[39m'\u001b[39m\u001b[39mvalue\u001b[39m\u001b[39m'\u001b[39m, \u001b[39mNone\u001b[39;00m))\n\u001b[1;32m    431\u001b[0m     \u001b[39mreturn\u001b[39;00m response\n",
      "File \u001b[0;32m~/anaconda3/lib/python3.9/site-packages/selenium/webdriver/remote/errorhandler.py:243\u001b[0m, in \u001b[0;36mErrorHandler.check_response\u001b[0;34m(self, response)\u001b[0m\n\u001b[1;32m    241\u001b[0m         alert_text \u001b[39m=\u001b[39m value[\u001b[39m'\u001b[39m\u001b[39malert\u001b[39m\u001b[39m'\u001b[39m]\u001b[39m.\u001b[39mget(\u001b[39m'\u001b[39m\u001b[39mtext\u001b[39m\u001b[39m'\u001b[39m)\n\u001b[1;32m    242\u001b[0m     \u001b[39mraise\u001b[39;00m exception_class(message, screen, stacktrace, alert_text)  \u001b[39m# type: ignore[call-arg]  # mypy is not smart enough here\u001b[39;00m\n\u001b[0;32m--> 243\u001b[0m \u001b[39mraise\u001b[39;00m exception_class(message, screen, stacktrace)\n",
      "\u001b[0;31mInvalidArgumentException\u001b[0m: Message: invalid argument: 'url' must be a string\n  (Session info: chrome=105.0.5195.125)\nStacktrace:\n#0 0x56497b2ece63 <unknown>\n#1 0x56497b10d3aa <unknown>\n#2 0x56497b176131 <unknown>\n#3 0x56497b1622e2 <unknown>\n#4 0x56497b175895 <unknown>\n#5 0x56497b1621d3 <unknown>\n#6 0x56497b137425 <unknown>\n#7 0x56497b138565 <unknown>\n#8 0x56497b3319d6 <unknown>\n#9 0x56497b334263 <unknown>\n#10 0x56497b334966 <unknown>\n#11 0x56497b31b88e <unknown>\n#12 0x56497b334fac <unknown>\n#13 0x56497b30ffbe <unknown>\n#14 0x56497b34ec68 <unknown>\n#15 0x56497b34edfc <unknown>\n#16 0x56497b368382 <unknown>\n#17 0x7fe4c62ee609 <unknown>\n"
     ]
    }
   ],
   "source": [
    "# Load further details\n",
    "jd = []\n",
    "seniority = []\n",
    "emp_type = []\n",
    "job_func = []\n",
    "industries = []\n",
    "\n",
    "for job in jobs:\n",
    " job_func0=[]\n",
    " industries0=[]\n",
    "\n",
    "# clicking job to view job details\n",
    "\n",
    " job_click_path = wd.get(job_link)\n",
    " time.sleep(5)\n",
    " \n",
    " jd0 = job.find_element(By.CLASS_NAME, value='show-more-less-html__markup').text\n",
    " jd.append(jd0)\n",
    "\n",
    " seniority0 = job.find_element(By.CSS_SELECTOR, value='li[1]>span').text\n",
    " seniority.append(seniority0)\n",
    " \n",
    " emp_type0 = job.find_element(By.CSS_SELECTOR, value='li[2]>span').text\n",
    " emp_type.append(emp_type0)\n",
    " \n",
    " job_func_elements = job.find_elements(By.CSS_SELECTOR, value='li[3]>span')\n",
    " \n",
    "for element in job_func_elements:\n",
    " job_func0.append(element.get_attribute('innerText'))\n",
    " job_func_final = ', '.join(job_func0)\n",
    " job_func.append(job_func_final)\n",
    "\n",
    " industries_elements = job.find_elements(By.CSS_SELECTOR, value='li[4]>span')\n",
    "\n",
    "for element in industries_elements:\n",
    " industries0.append(element.get_attribute('innerText'))\n",
    " industries_final = ', '.join(industries0)\n",
    " industries.append(industries_final)"
   ]
  },
  {
   "cell_type": "code",
   "execution_count": 76,
   "metadata": {},
   "outputs": [],
   "source": [
    "# Load data into DataFrame for further analysis\n",
    "job_data = pd.DataFrame({'ID': job_id,\n",
    "                         'Date': date,\n",
    "                         'Company': company_name,\n",
    "                         'Title': job_title,\n",
    "                         'Location': location,\n",
    "                         #'Description': jd,\n",
    "                         #'Level': seniority,\n",
    "                         #'Type': emp_type,\n",
    "                         #'Function': job_func,\n",
    "                         #'Industry': industries,\n",
    "                         'Link': job_link\n",
    "                         })\n",
    "\n",
    "# cleaning description column\n",
    "#job_data['Description'] = job_data['Description'].str.replace('\\n', ' ')\n",
    "job_data.to_csv('linkedin_jobs_data-2.csv', index=False)"
   ]
  }
 ],
 "metadata": {
  "kernelspec": {
   "display_name": "Python 3.9.12 ('base')",
   "language": "python",
   "name": "python3"
  },
  "language_info": {
   "codemirror_mode": {
    "name": "ipython",
    "version": 3
   },
   "file_extension": ".py",
   "mimetype": "text/x-python",
   "name": "python",
   "nbconvert_exporter": "python",
   "pygments_lexer": "ipython3",
   "version": "3.9.12"
  },
  "orig_nbformat": 4,
  "vscode": {
   "interpreter": {
    "hash": "116e3c215dbab2ff6354be762d04fe3d100fb84eb691baf9009d1381879380bd"
   }
  }
 },
 "nbformat": 4,
 "nbformat_minor": 2
}
